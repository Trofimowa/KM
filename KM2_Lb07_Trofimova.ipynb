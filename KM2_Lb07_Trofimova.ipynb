{
 "cells": [
  {
   "cell_type": "markdown",
   "id": "41d1f888-1387-4488-9629-fe41490db5f6",
   "metadata": {},
   "source": [
    "# Лабораторная работа 7\n",
    "# Построение бинарного дерева поиска. Подсчет количества элементов в дереве\n"
   ]
  },
  {
   "cell_type": "markdown",
   "id": "b3175d26-2865-4cb6-afe7-9a6adf5580f3",
   "metadata": {},
   "source": [
    "Трофимова Вероника Сергевна, 15.05.2025"
   ]
  },
  {
   "cell_type": "markdown",
   "id": "456f2385-8b77-41e1-89be-ed6a84ba3707",
   "metadata": {},
   "source": [
    "## Задание 7.1 Определение классов"
   ]
  },
  {
   "cell_type": "code",
   "execution_count": 109,
   "id": "15b5fd1f-ae62-4e58-b668-9c1795b9482e",
   "metadata": {},
   "outputs": [],
   "source": [
    "class BinaryTree:\n",
    "    def __init__(self):\n",
    "        self.root = EmptyNode()\n",
    "        \n",
    "    def __repr__(self):\n",
    "        return repr(self.root) \n",
    "        \n",
    "    def insert(self, value):\n",
    "        self.root = self.root.insert(value) \n",
    "class BinaryNode:\n",
    "    def __init__(self, left, value, right):\n",
    "        self.left = left\n",
    "        self.value = value\n",
    "        self.right = right\n",
    "    def __repr__(self):\n",
    "        return f'({self.left}, {self.value}, {self.right})' \n",
    "    def insert(self,value):\n",
    "        if value<self.value:\n",
    "            self.left=self.left.insert(value)\n",
    "        elif value>=self.value:\n",
    "            self.right=self.right.insert(value)\n",
    "        return self\n",
    "class EmptyNode:        \n",
    "    def __repr__(self):\n",
    "        return '*'\n",
    "    def insert(self, value):\n",
    "        return BinaryNode(self, value, self)"
   ]
  },
  {
   "cell_type": "markdown",
   "id": "7e4d0dc6-d046-44f5-9c23-2c3306345be6",
   "metadata": {},
   "source": [
    "## Задание 7.2. Метод вставки элемента в бинарное дерево поиска"
   ]
  },
  {
   "cell_type": "code",
   "execution_count": 110,
   "id": "56a395d3-3339-4e0d-9169-0c918309e39a",
   "metadata": {},
   "outputs": [],
   "source": [
    "class BinaryNode:\n",
    "    \n",
    "    def __init__(self, left, value, right):\n",
    "        self.left = left    # левый потомок (BinaryNode или EmptyNode)\n",
    "        self.value = value  # значение узла\n",
    "        self.right = right  # правый потомок (BinaryNode или EmptyNode)\n",
    "        \n",
    "    def __repr__(self):\n",
    "        return f'({self.left}, {self.value}, {self.right})'\n",
    "    \n",
    "    def insert(self, value):\n",
    "        if value < self.value:\n",
    "            self.left = self.left.insert(value)  # влево, если значение меньше\n",
    "        else:\n",
    "            self.right = self.right.insert(value) # вправо, если >=\n",
    "        return self"
   ]
  },
  {
   "cell_type": "code",
   "execution_count": 111,
   "id": "e8b4fda3-f0e4-446c-a826-745023920af5",
   "metadata": {},
   "outputs": [
    {
     "name": "stdout",
     "output_type": "stream",
     "text": [
      "((*, apple, *), banana, (*, cherry, (*, date, (*, elderberry, *))))\n"
     ]
    }
   ],
   "source": [
    "# Создаем дерево из строк\n",
    "tree_str = BinaryTree()\n",
    "words = [\"banana\", \"apple\", \"cherry\", \"date\", \"elderberry\"]\n",
    "for el in words:\n",
    "    tree_str.insert(el)\n",
    "print(tree_str)"
   ]
  },
  {
   "cell_type": "code",
   "execution_count": 112,
   "id": "4a4a186d-9b6c-4664-9f21-36de955888a7",
   "metadata": {},
   "outputs": [
    {
     "name": "stdout",
     "output_type": "stream",
     "text": [
      "(((*, 1, *), 3, (*, 4, *)), 5, ((*, 6, *), 7, (*, 8, *)))\n"
     ]
    }
   ],
   "source": [
    "# Создаем дерево из списка чисел\n",
    "tree_list = BinaryTree()\n",
    "numbers = [5, 3, 7, 1, 4, 6, 8]\n",
    "for el in numbers:\n",
    "    tree_list.insert(el)\n",
    "print(tree_list)"
   ]
  },
  {
   "cell_type": "markdown",
   "id": "a060298f-1551-4016-a2de-362208abbc87",
   "metadata": {},
   "source": [
    "## Задание 7.3 Построение бинарного дерева поиска"
   ]
  },
  {
   "cell_type": "code",
   "execution_count": 113,
   "id": "794cbc21-975d-4ff7-8ddd-abc52a741d12",
   "metadata": {},
   "outputs": [
    {
     "name": "stdout",
     "output_type": "stream",
     "text": [
      "[1, 2, 3, 4, 5, 6, 7, 8, 9, 0]\n",
      "[[0. 1. 2. 3. 4.]\n",
      " [5. 6. 7. 8. 9.]]\n",
      "[0, 1, 2, 3, 4, 5, 6, 7, 8, 9]\n",
      "[1, 2, 3, 4, 5, 6, 7, 8, 9]\n"
     ]
    }
   ],
   "source": [
    "import numpy as np\n",
    "import json\n",
    "with open('num1.txt','r') as f:\n",
    "    num1=[int(i) for i in f]\n",
    "print(num1)\n",
    "num2=np.loadtxt('num2.txt')\n",
    "print(num2)\n",
    "with open('num3.txt','r') as f:\n",
    "    res=f.read().split()\n",
    "    num3=[int(i) for i in res]\n",
    "print(num3)\n",
    "\n",
    "with open('num4.json','r') as f:\n",
    "    res=json.load(f)['values']\n",
    "print(res)"
   ]
  },
  {
   "cell_type": "code",
   "execution_count": 114,
   "id": "ffc13424-7922-445e-90c3-4523fec4c9b9",
   "metadata": {},
   "outputs": [
    {
     "name": "stdout",
     "output_type": "stream",
     "text": [
      "((*, 0, *), 1, (*, 2, (*, 3, (*, 4, (*, 5, (*, 6, (*, 7, (*, 8, (*, 9, *)))))))))\n"
     ]
    }
   ],
   "source": [
    "tree1 = BinaryTree()\n",
    "for el in num1:\n",
    "    tree1.insert(el)\n",
    "print(tree1)"
   ]
  },
  {
   "cell_type": "code",
   "execution_count": 115,
   "id": "c32274fd-f015-4585-91f6-7e3acaa3b2fd",
   "metadata": {},
   "outputs": [
    {
     "name": "stdout",
     "output_type": "stream",
     "text": [
      "(*, 0.0, (*, 1.0, (*, 2.0, (*, 3.0, (*, 4.0, (*, 5.0, (*, 6.0, (*, 7.0, (*, 8.0, (*, 9.0, *))))))))))\n"
     ]
    }
   ],
   "source": [
    "tree2 = BinaryTree()\n",
    "for el in num2.flatten(): \n",
    "    tree2.insert(float(el)) \n",
    "print(tree2)"
   ]
  },
  {
   "cell_type": "code",
   "execution_count": 116,
   "id": "f51e1ef8-aa35-4ba3-bcaf-739f8bc3cc2d",
   "metadata": {},
   "outputs": [
    {
     "name": "stdout",
     "output_type": "stream",
     "text": [
      "(*, 0, (*, 1, (*, 2, (*, 3, (*, 4, (*, 5, (*, 6, (*, 7, (*, 8, (*, 9, *))))))))))\n"
     ]
    }
   ],
   "source": [
    "tree3 = BinaryTree()\n",
    "for el in num3:\n",
    "    tree3.insert(el)\n",
    "print(tree3)"
   ]
  },
  {
   "cell_type": "markdown",
   "id": "b26a602a-dd31-4626-b7c2-69305686839c",
   "metadata": {},
   "source": [
    "## Задание 7.4 Перегрузка операции принадлежности in\n"
   ]
  },
  {
   "cell_type": "code",
   "execution_count": 117,
   "id": "27f58f48-ee34-4c2b-9871-0bed03ae20bb",
   "metadata": {},
   "outputs": [],
   "source": [
    "class BinaryTree:\n",
    "    def __init__(self):\n",
    "        self.root = EmptyNode() \n",
    "        \n",
    "    def __repr__(self):\n",
    "        return repr(self.root) \n",
    "        \n",
    "    def insert(self, value):\n",
    "        self.root = self.root.insert(value) \n",
    "    def __contains__(self,value):\n",
    "        return value in self.root\n",
    "class BinaryNode:\n",
    "    def __init__(self, left, value, right):\n",
    "        self.left = left\n",
    "        self.value = value\n",
    "        self.right = right\n",
    "    def __repr__(self):\n",
    "        return f'({self.left}, {self.value}, {self.right})' \n",
    "    def insert(self,value):\n",
    "        if value<self.value:\n",
    "            self.left=self.left.insert(value)\n",
    "        elif value>=self.value:\n",
    "            self.right=self.right.insert(value)\n",
    "        return self\n",
    "    def __contains__(self,value):\n",
    "        if value==self.value:\n",
    "            return True\n",
    "        elif value<self.value:\n",
    "            return value in self.left\n",
    "        elif value>self.value:\n",
    "            return value in self.right\n",
    "class EmptyNode:        \n",
    "    def __repr__(self):\n",
    "        return '*'\n",
    "    def insert(self, value):\n",
    "        return BinaryNode(self, value, self)\n",
    "    def __contains__(self,value):\n",
    "        return False"
   ]
  },
  {
   "cell_type": "code",
   "execution_count": 118,
   "id": "8385af4f-b673-4326-9fa5-d3b60494c024",
   "metadata": {},
   "outputs": [
    {
     "name": "stdout",
     "output_type": "stream",
     "text": [
      "(*, 5, *)\n",
      "((*, 1, *), 5, *)\n",
      "((*, 1, *), 5, (*, 10, *))\n",
      "((*, 1, (*, 3, *)), 5, (*, 10, *))\n",
      "((*, 1, (*, 3, (*, 4, *))), 5, (*, 10, *))\n",
      "(0, False) (1, True) (2, False) (3, True) (4, True) (5, True) (6, False) (7, False) (8, False) (9, False) "
     ]
    }
   ],
   "source": [
    "source_data = [5,1,10,3,4]\n",
    "tree = BinaryTree()\n",
    "for i in source_data:\n",
    "    tree.insert(i)\n",
    "    print(tree)\n",
    "for i in range(10):\n",
    "    print((i, i in tree), end = ' ')"
   ]
  },
  {
   "cell_type": "code",
   "execution_count": 119,
   "id": "c526e0de-6046-40c7-995c-4f64072cd891",
   "metadata": {},
   "outputs": [
    {
     "name": "stdout",
     "output_type": "stream",
     "text": [
      "True\n",
      "False\n"
     ]
    }
   ],
   "source": [
    "tree = BinaryTree()\n",
    "list = [1,2,3,7,8,9,4,5,6]\n",
    "for el in list:\n",
    "    tree.insert(el)\n",
    "\n",
    "print(3 in tree) \n",
    "print(0 in tree)"
   ]
  },
  {
   "cell_type": "code",
   "execution_count": 120,
   "id": "07d6c737-bafb-438e-b7f7-666125c53b47",
   "metadata": {},
   "outputs": [
    {
     "name": "stdout",
     "output_type": "stream",
     "text": [
      "False\n",
      "True\n"
     ]
    }
   ],
   "source": [
    "tree = BinaryTree()\n",
    "list = [0]\n",
    "for el in list:\n",
    "    tree.insert(el)\n",
    "\n",
    "print(3 in tree) \n",
    "print(0 in tree)"
   ]
  },
  {
   "cell_type": "code",
   "execution_count": 121,
   "id": "8b4e539d-5149-4213-a764-4d784e6480a0",
   "metadata": {},
   "outputs": [
    {
     "name": "stdout",
     "output_type": "stream",
     "text": [
      "False\n",
      "False\n"
     ]
    }
   ],
   "source": [
    "tree = BinaryTree()\n",
    "print(3 in tree)\n",
    "print(0 in tree)"
   ]
  },
  {
   "cell_type": "markdown",
   "id": "c247676b-e3bb-453e-b05d-e141abdef082",
   "metadata": {},
   "source": [
    "## Задание 7.5. Перегрузка встроенной функции len"
   ]
  },
  {
   "cell_type": "code",
   "execution_count": 122,
   "id": "9bb73036-5135-48bc-bd87-746259a86e71",
   "metadata": {},
   "outputs": [],
   "source": [
    "class BinaryNode:\n",
    "    \n",
    "    numberOfNodes=0\n",
    "    def __init__(self, left, value, right):\n",
    "        self.left = left\n",
    "        self.value = value\n",
    "        self.right = right\n",
    "        BinaryNode.numberOfNodes+=1\n",
    "    def __repr__(self):\n",
    "        return f'({self.left}, {self.value}, {self.right})' \n",
    "    def insert(self,value):\n",
    "        if value<self.value:\n",
    "            self.left=self.left.insert(value)\n",
    "        elif value>=self.value:\n",
    "            self.right=self.right.insert(value)\n",
    "        return self\n",
    "    def __contains__(self,value):\n",
    "        if value==self.value:\n",
    "            return True\n",
    "        elif value<self.value:\n",
    "            return value in self.left\n",
    "        elif value>self.value:\n",
    "            return value in self.right\n",
    "    def __len__(self):\n",
    "        return BinaryNode.numberOfNodes\n",
    "class EmptyNode:        \n",
    "    def __repr__(self):\n",
    "        return '*'\n",
    "    def insert(self, value):\n",
    "        return BinaryNode(self, value, self)\n",
    "    def __contains__(self,value):\n",
    "        return False\n",
    "    def __len__(self):\n",
    "        return 0\n",
    "class BinaryTree:\n",
    "    BinaryNode.numberOfNodes = 0\n",
    "    def __init__(self):\n",
    "        self.root = EmptyNode() \n",
    "    def __repr__(self):\n",
    "        return repr(self.root) \n",
    "        \n",
    "    def insert(self, value):\n",
    "        self.root = self.root.insert(value) \n",
    "    def __contains__(self,value):\n",
    "        return value in self.root\n",
    "    def __len__(self):\n",
    "        return len(self.root)"
   ]
  },
  {
   "cell_type": "code",
   "execution_count": 123,
   "id": "92376e42-8736-4ea8-8363-85c88d408b9f",
   "metadata": {},
   "outputs": [
    {
     "data": {
      "text/plain": [
       "5"
      ]
     },
     "execution_count": 123,
     "metadata": {},
     "output_type": "execute_result"
    }
   ],
   "source": [
    "a = [1,2,3,4,5]\n",
    "tree = BinaryTree()\n",
    "for el in a:\n",
    "    tree.insert(el)\n",
    "len(tree)"
   ]
  },
  {
   "cell_type": "code",
   "execution_count": 124,
   "id": "58014f61-9c32-4fad-8a6e-6ff84c328a3c",
   "metadata": {},
   "outputs": [
    {
     "name": "stdout",
     "output_type": "stream",
     "text": [
      "0\n"
     ]
    }
   ],
   "source": [
    "tree = BinaryTree()\n",
    "print(len(tree))"
   ]
  },
  {
   "cell_type": "code",
   "execution_count": null,
   "id": "bfa30be4-f5ac-4ac8-b040-883ce0be122c",
   "metadata": {},
   "outputs": [],
   "source": []
  }
 ],
 "metadata": {
  "kernelspec": {
   "display_name": "Python 3 (ipykernel)",
   "language": "python",
   "name": "python3"
  },
  "language_info": {
   "codemirror_mode": {
    "name": "ipython",
    "version": 3
   },
   "file_extension": ".py",
   "mimetype": "text/x-python",
   "name": "python",
   "nbconvert_exporter": "python",
   "pygments_lexer": "ipython3",
   "version": "3.10.17"
  }
 },
 "nbformat": 4,
 "nbformat_minor": 5
}
