{
 "cells": [
  {
   "cell_type": "markdown",
   "id": "a51f1a28-2874-4211-b737-89bb90109172",
   "metadata": {},
   "source": [
    "# Лабораторная работа 2  \n",
    "# Встроенные типы объектов в Python"
   ]
  },
  {
   "cell_type": "markdown",
   "id": "00d4e169-7b97-4c12-b278-be2c8f637a6e",
   "metadata": {},
   "source": [
    "Трофимова Вероника Сергеевна, 13.03.2025"
   ]
  },
  {
   "cell_type": "markdown",
   "id": "ffa188cc-1ba2-4f1f-84a7-e62c96e338ad",
   "metadata": {},
   "source": [
    "## Задание 1. Построение иерархии встроенных типов в Python"
   ]
  },
  {
   "cell_type": "markdown",
   "id": "5614455d-1ccb-4e8e-9543-7a83416b2ab0",
   "metadata": {},
   "source": [
    "**Числа**\n",
    "- целые числа ( int )\n",
    "  - неизменяемый\n",
    "  - пример: 100\n",
    "- числа с плавающей точкой ( float )\n",
    "  - неизменяемый\n",
    "  - пример: 9.5\n",
    "- комплексные числа ( complex )\n",
    "  - неизменяемый\n",
    "  - пример: 1+5j\n",
    "- булевый тип ( bool )\n",
    "  - неизменяемый\n",
    "  - пример: True \n",
    "\n",
    "**Коллекции**\n",
    "- последовательности:\n",
    "  - строки ( str )\n",
    "    - упорядоченный\n",
    "    - неизменяемый\n",
    "    - пример: 'hello'\n",
    "  - списки ( list )\n",
    "    - упорядоченный\n",
    "    - изменяемый\n",
    "    - пример: [1, 2, 3]\n",
    "  - кортежи ( tuple )\n",
    "    - упорядоченный\n",
    "    - неизменяемый\n",
    "    - пример:(1, 2, 3) \n",
    "- отображения:\n",
    "  - словарь ( dict )\n",
    "    - неупорядоченный\n",
    "    - изменяемый\n",
    "    - пример: {'a': 1}\n",
    "- множества:\n",
    "  - множество ( set )\n",
    "    - неупорядоченный\n",
    "    - неизменяемый\n",
    "    - пример: {1, 2, 3}"
   ]
  },
  {
   "cell_type": "markdown",
   "id": "55c6d933-bf44-4404-a746-181a43116c76",
   "metadata": {},
   "source": [
    "## Задание 2. Проработка примеров, представленных в лекционном файле"
   ]
  },
  {
   "cell_type": "markdown",
   "id": "3269e611-8927-45a7-83dc-e8bf61f57e2d",
   "metadata": {},
   "source": [
    "### Задание 2.1. Понятие объекта. Атрибуты. Методы. Встроенные типы объектов"
   ]
  },
  {
   "cell_type": "markdown",
   "id": "76b12ae3-6d77-454e-a89d-11365fe05ac6",
   "metadata": {},
   "source": [
    "### Задание 2.2. \n"
   ]
  },
  {
   "cell_type": "markdown",
   "id": "50f000f5-0866-4fb6-808e-9ca5607c6f5d",
   "metadata": {},
   "source": [
    "#### 2.2. Встроенные типы объектов, представляющих числа"
   ]
  },
  {
   "cell_type": "code",
   "execution_count": 829,
   "id": "8597ed68-2189-4cc7-b06b-814c446325be",
   "metadata": {},
   "outputs": [
    {
     "name": "stdout",
     "output_type": "stream",
     "text": [
      "0.5\n",
      "0.06\n"
     ]
    }
   ],
   "source": [
    "import decimal as dec\n",
    "print(dec.Decimal('0.2')+dec.Decimal('0.3'))\n",
    "print(dec.Decimal('0.2')*dec.Decimal('0.3'))"
   ]
  },
  {
   "cell_type": "code",
   "execution_count": 830,
   "id": "22c8ab74-1a68-4781-ae64-69d22b8b69af",
   "metadata": {},
   "outputs": [
    {
     "name": "stdout",
     "output_type": "stream",
     "text": [
      "3/5\n",
      "97/50\n"
     ]
    }
   ],
   "source": [
    "import fractions as fr \n",
    "print(fr.Fraction(3,5))\n",
    "print(fr.Fraction(97,50))"
   ]
  },
  {
   "cell_type": "markdown",
   "id": "30757bba-2a3d-4ce3-8af2-d9fabd394a96",
   "metadata": {},
   "source": [
    "#### 2.3. Встроенные типы последовательностей: str, list, tuple"
   ]
  },
  {
   "cell_type": "code",
   "execution_count": 834,
   "id": "691ac64e-47ae-4b23-aea7-8c600a8b047d",
   "metadata": {},
   "outputs": [
    {
     "name": "stdout",
     "output_type": "stream",
     "text": [
      "slam\n"
     ]
    }
   ],
   "source": [
    "# заменим 'p' на 'l' с помощью нарезания и конкатенации\n",
    "\n",
    "S='spam'\n",
    "S=S[0:1]+'l'+S[2:4]\n",
    "print(S)"
   ]
  },
  {
   "cell_type": "code",
   "execution_count": 836,
   "id": "67c52f94-006b-486b-a982-73c21ac666e5",
   "metadata": {},
   "outputs": [
    {
     "name": "stdout",
     "output_type": "stream",
     "text": [
      "slam\n"
     ]
    }
   ],
   "source": [
    "# эту же операцию можно выполнить с применением только индексации и конкатенации:\n",
    "\n",
    "S='spam'\n",
    "S=S[0]+'l'+S[2]+S[3]\n",
    "print(S)"
   ]
  },
  {
   "cell_type": "code",
   "execution_count": 837,
   "id": "2fcad36e-76a2-4711-a37d-8d64b83dd4ee",
   "metadata": {},
   "outputs": [
    {
     "ename": "TypeError",
     "evalue": "'str' object does not support item assignment",
     "output_type": "error",
     "traceback": [
      "\u001b[1;31m---------------------------------------------------------------------------\u001b[0m",
      "\u001b[1;31mTypeError\u001b[0m                                 Traceback (most recent call last)",
      "Cell \u001b[1;32mIn[837], line 4\u001b[0m\n\u001b[0;32m      1\u001b[0m \u001b[38;5;66;03m# эту операцию нельзя выполнить только с помощью присваивания по индексу, потому что строка это последовательность, которую нельзя изменять после ее создания:\u001b[39;00m\n\u001b[0;32m      3\u001b[0m S\u001b[38;5;241m=\u001b[39m\u001b[38;5;124m'\u001b[39m\u001b[38;5;124mspam\u001b[39m\u001b[38;5;124m'\u001b[39m\n\u001b[1;32m----> 4\u001b[0m S[\u001b[38;5;241m1\u001b[39m]\u001b[38;5;241m=\u001b[39m\u001b[38;5;124m'\u001b[39m\u001b[38;5;124ml\u001b[39m\u001b[38;5;124m'\u001b[39m\n\u001b[0;32m      5\u001b[0m \u001b[38;5;28mprint\u001b[39m(S)\n",
      "\u001b[1;31mTypeError\u001b[0m: 'str' object does not support item assignment"
     ]
    }
   ],
   "source": [
    "# эту операцию нельзя выполнить только с помощью присваивания по индексу, потому что строка это последовательность, которую нельзя изменять после ее создания:\n",
    "\n",
    "S='spam'\n",
    "S[1]='l'\n",
    "print(S)"
   ]
  },
  {
   "cell_type": "markdown",
   "id": "cd50437e-80f4-42b3-bf60-d37d204c6496",
   "metadata": {},
   "source": [
    "Проделаем эти же операции со списком"
   ]
  },
  {
   "cell_type": "code",
   "execution_count": 841,
   "id": "3cc91c0c-a0d0-4534-aa10-7002837a2ccc",
   "metadata": {},
   "outputs": [
    {
     "name": "stdout",
     "output_type": "stream",
     "text": [
      "['s', 'l', 'a', 'm']\n"
     ]
    }
   ],
   "source": [
    "# заменим 'p' на 'l' с помощью нарезания и конкатенации\n",
    "\n",
    "L=['s','p','a','m']\n",
    "L=L[0:1]+['l']+L[2:4]\n",
    "print(L)"
   ]
  },
  {
   "cell_type": "code",
   "execution_count": 842,
   "id": "6f79610d-2e98-4100-96d9-01742f02fccf",
   "metadata": {},
   "outputs": [
    {
     "name": "stdout",
     "output_type": "stream",
     "text": [
      "['s', 'l', 'a', 'm']\n"
     ]
    }
   ],
   "source": [
    "# эту же операцию можно выполнить с применением только индексации и конкатенации:\n",
    "\n",
    "L=['s','p','a','m']\n",
    "L=[L[0]]+['l']+[L[2]]+[L[3]]\n",
    "print(L)"
   ]
  },
  {
   "cell_type": "code",
   "execution_count": 845,
   "id": "4bd65646-19df-4125-85e2-27ac2d5de6ee",
   "metadata": {},
   "outputs": [
    {
     "name": "stdout",
     "output_type": "stream",
     "text": [
      "['s', 'l', 'a', 'm']\n"
     ]
    }
   ],
   "source": [
    "# эту операцию можно выполнить только с помощью присваивания по индексу, потому что список это последовательность, которую можно изменять после ее создания:\n",
    "\n",
    "L=['s','p','a','m']\n",
    "L[1]='l'\n",
    "print(L)"
   ]
  },
  {
   "cell_type": "markdown",
   "id": "b992bd0b-d196-4c61-8c69-f3005a807a6c",
   "metadata": {},
   "source": [
    "Проделаем эти же операции с кортежом"
   ]
  },
  {
   "cell_type": "code",
   "execution_count": 848,
   "id": "4ef32280-27fb-4524-97d7-ca993dd5363d",
   "metadata": {},
   "outputs": [
    {
     "name": "stdout",
     "output_type": "stream",
     "text": [
      "('s', 'l', 'a', 'm')\n"
     ]
    }
   ],
   "source": [
    "# заменим 'p' на 'l' с помощью нарезания и конкатенации\n",
    "\n",
    "T=('s','p','a','m')\n",
    "T=T[0:1]+('l',)+T[2:4]\n",
    "print(T)"
   ]
  },
  {
   "cell_type": "code",
   "execution_count": 850,
   "id": "3cbdd133-48c3-4750-b9a6-a1c50f7f0da3",
   "metadata": {},
   "outputs": [
    {
     "name": "stdout",
     "output_type": "stream",
     "text": [
      "('s', 'l', 'a', 'm')\n"
     ]
    }
   ],
   "source": [
    "# эту же операцию можно выполнить с применением только индексации и конкатенации:\n",
    "\n",
    "T=('s','p','a','m')\n",
    "T=(T[0],)+('l',)+(T[2],)+(T[3],)\n",
    "print(T)"
   ]
  },
  {
   "cell_type": "code",
   "execution_count": 851,
   "id": "6871d880-48f7-48b7-9878-4512e1bfd219",
   "metadata": {},
   "outputs": [
    {
     "ename": "TypeError",
     "evalue": "'tuple' object does not support item assignment",
     "output_type": "error",
     "traceback": [
      "\u001b[1;31m---------------------------------------------------------------------------\u001b[0m",
      "\u001b[1;31mTypeError\u001b[0m                                 Traceback (most recent call last)",
      "Cell \u001b[1;32mIn[851], line 4\u001b[0m\n\u001b[0;32m      1\u001b[0m \u001b[38;5;66;03m# эту операцию нельзя выполнить только с помощью присваивания по индексу, потому что кортеж это последовательность, которую нельзя изменять после ее создания:\u001b[39;00m\n\u001b[0;32m      3\u001b[0m T\u001b[38;5;241m=\u001b[39m(\u001b[38;5;124m'\u001b[39m\u001b[38;5;124ms\u001b[39m\u001b[38;5;124m'\u001b[39m,\u001b[38;5;124m'\u001b[39m\u001b[38;5;124mp\u001b[39m\u001b[38;5;124m'\u001b[39m,\u001b[38;5;124m'\u001b[39m\u001b[38;5;124ma\u001b[39m\u001b[38;5;124m'\u001b[39m,\u001b[38;5;124m'\u001b[39m\u001b[38;5;124mm\u001b[39m\u001b[38;5;124m'\u001b[39m)\n\u001b[1;32m----> 4\u001b[0m T[\u001b[38;5;241m1\u001b[39m]\u001b[38;5;241m=\u001b[39m\u001b[38;5;124m'\u001b[39m\u001b[38;5;124ml\u001b[39m\u001b[38;5;124m'\u001b[39m\n\u001b[0;32m      5\u001b[0m \u001b[38;5;28mprint\u001b[39m(T)\n",
      "\u001b[1;31mTypeError\u001b[0m: 'tuple' object does not support item assignment"
     ]
    }
   ],
   "source": [
    "# эту операцию нельзя выполнить только с помощью присваивания по индексу, потому что кортеж это последовательность, которую нельзя изменять после ее создания:\n",
    "\n",
    "T=('s','p','a','m')\n",
    "T[1]='l'\n",
    "print(T)"
   ]
  },
  {
   "cell_type": "markdown",
   "id": "89794482-0857-4d8a-b8d7-bdd39ee56605",
   "metadata": {},
   "source": [
    "#### 2.4. Встроенный тип отображения: dict\n"
   ]
  },
  {
   "cell_type": "code",
   "execution_count": 854,
   "id": "863f6292-8a2c-4c16-992d-622648f2caeb",
   "metadata": {},
   "outputs": [
    {
     "data": {
      "text/plain": [
       "'Veronika'"
      ]
     },
     "execution_count": 854,
     "metadata": {},
     "output_type": "execute_result"
    }
   ],
   "source": [
    "dict={'surname':'Trofimova', 'name':'Veronika', 'age':'18', 'mail':'veronikatrofimova7667@gmail.com', 'phone':'+375447126962'}\n",
    "dict['name']"
   ]
  },
  {
   "cell_type": "markdown",
   "id": "b88c9994-07f3-45a9-b703-d8e1c53812e3",
   "metadata": {},
   "source": [
    "Словари (dict) позволяют организовать данные в ключ-значение пары, что делает доступ к информации удобным и логичным. Вложенные словари помогают точно структурировать данные, разделяя имя на части или адрес на компоненты. Этот подход легко расширить, добавив дополнительные поля или категории."
   ]
  },
  {
   "cell_type": "markdown",
   "id": "28cde0b8-f200-4c7e-910e-14a90db515ca",
   "metadata": {},
   "source": [
    "#### 2.5. Встроенный тип множества: set"
   ]
  },
  {
   "cell_type": "code",
   "execution_count": 858,
   "id": "883f33cc-1833-4af9-a185-c530bdf0f34e",
   "metadata": {},
   "outputs": [
    {
     "name": "stdout",
     "output_type": "stream",
     "text": [
      "123123123\n",
      "{'2', '3', '1'}\n"
     ]
    }
   ],
   "source": [
    "s='123123123'\n",
    "print(s)\n",
    "\n",
    "s=set(s)\n",
    "print(s)"
   ]
  },
  {
   "cell_type": "markdown",
   "id": "3978a81e-4ddc-452c-9c2e-ec78e5bc13c4",
   "metadata": {},
   "source": [
    "#### 2.8. Интерфейс объекта: операции и методы"
   ]
  },
  {
   "cell_type": "code",
   "execution_count": 861,
   "id": "1e5aaf5a-6cad-452e-8765-5326dce31b67",
   "metadata": {},
   "outputs": [
    {
     "name": "stdout",
     "output_type": "stream",
     "text": [
      "3\n",
      "3\n",
      "2\n",
      "2\n",
      "4\n",
      "4\n"
     ]
    }
   ],
   "source": [
    "# примеры вызова методов count и index для всех возможных типов объектов.\n",
    "\n",
    "str='attribute'\n",
    "print(str.count('t'))\n",
    "print(str.index('r'))\n",
    "\n",
    "list=[1,2,3,1]\n",
    "print(list.count(1))\n",
    "print(list.index(3))\n",
    "\n",
    "tuple=(1,1,1,1,2,2,2,2,3,3,3,3)\n",
    "print(tuple.count(2))\n",
    "print(tuple.index(2))"
   ]
  },
  {
   "cell_type": "code",
   "execution_count": 863,
   "id": "97c86eae-5592-4128-9ca1-7d57af619ba8",
   "metadata": {},
   "outputs": [
    {
     "name": "stdout",
     "output_type": "stream",
     "text": [
      "!PYTHON!\n",
      "PYTHON\n",
      "python\n"
     ]
    }
   ],
   "source": [
    "# пример выражения, в котором для заданной строки последовательно применены три различных строковых метода. Для каждого строкового метода сформулируйте спецификацию.\n",
    "\n",
    "s='!P.Y.T.H.O.N!'\n",
    "s=s.replace('.','')\n",
    "print(s)\n",
    "\n",
    "s=s.strip('!')\n",
    "print(s)\n",
    "\n",
    "s=s.lower()\n",
    "print(s)"
   ]
  },
  {
   "cell_type": "markdown",
   "id": "275ac053-37cb-4033-9297-bb13b3bf9df5",
   "metadata": {},
   "source": [
    "replace('.','') -- заменяет символы '.' на ''           \n",
    "strip('!') -- удаляет символы '!'             \n",
    "lower() -- преобразует строку в нижний регистр"
   ]
  },
  {
   "cell_type": "code",
   "execution_count": 866,
   "id": "c6374b22-c4ff-4f51-8ed1-958bcceea147",
   "metadata": {},
   "outputs": [
    {
     "name": "stdout",
     "output_type": "stream",
     "text": [
      "[1, 2, 3, 4]\n",
      "[1, 2, 3, 4, 5]\n",
      "[1, 2, 3, 5]\n"
     ]
    }
   ],
   "source": [
    "# примеры добавления элемента в список с использованием трех различных списковых методов\n",
    "\n",
    "list=[1,2,3]\n",
    "list.append(4)\n",
    "print(list)\n",
    "\n",
    "list=[1,2,3]\n",
    "list.extend((4,5))\n",
    "print(list)\n",
    "\n",
    "list=[1,2,3]\n",
    "list.insert(3,5)\n",
    "print(list)"
   ]
  },
  {
   "cell_type": "code",
   "execution_count": 868,
   "id": "80820d7d-65d9-4d84-913f-f01806433bad",
   "metadata": {},
   "outputs": [
    {
     "name": "stdout",
     "output_type": "stream",
     "text": [
      "['a', 'ab', 'abc', 'abcd', 'abcde']\n"
     ]
    }
   ],
   "source": [
    "# пример сортировки списка с использованием метода sort и заданного аргумента key. Прокомментируйте результат вычисления.\n",
    "\n",
    "list=['abcd','a','abc','ab','abcde']\n",
    "list.sort(key=len)\n",
    "print(list)"
   ]
  },
  {
   "cell_type": "markdown",
   "id": "e716e50e-d60a-4e15-99e9-81e6faa0be65",
   "metadata": {},
   "source": [
    "После сортировки список становится упорядоченным по длине элементов"
   ]
  },
  {
   "cell_type": "code",
   "execution_count": 871,
   "id": "df0f3c0d-4248-4503-8c2d-714a81fd5e9e",
   "metadata": {},
   "outputs": [
    {
     "name": "stdout",
     "output_type": "stream",
     "text": [
      "{1: 'KM', 2: 'KM', 3: 'KM', 4: 'KM', 5: 'KM', 6: 'KM', 7: 'KM', 8: 'KM', 9: 'KM', 10: 'KM', 11: 'KM', 12: 'KM', 13: 'KM', 14: 'KM', 15: 'KM', 16: 'KM', 17: 'KM', 18: 'KM', 19: 'KM', 20: 'KM', 21: 'KM', 22: 'KM', 23: 'KM', 24: 'KM', 25: 'KM', 26: 'KM', 27: 'KM', 28: 'KM', 29: 'KM', 30: 'KM', 31: 'KM', 32: 'KM', 33: 'KM', 34: 'KM', 35: 'KM', 36: 'KM', 37: 'KM', 38: 'KM', 39: 'KM', 40: 'KM', 41: 'KM', 42: 'KM', 43: 'KM', 44: 'KM', 45: 'KM', 46: 'KM', 47: 'KM', 48: 'KM', 49: 'KM', 50: 'KM', 51: 'KM', 52: 'KM', 53: 'KM', 54: 'KM', 55: 'KM', 56: 'KM', 57: 'KM', 58: 'KM', 59: 'KM', 60: 'KM', 61: 'KM', 62: 'KM', 63: 'KM', 64: 'KM', 65: 'KM', 66: 'KM', 67: 'KM', 68: 'KM', 69: 'KM', 70: 'KM', 71: 'KM', 72: 'KM', 73: 'KM', 74: 'KM', 75: 'KM', 76: 'KM', 77: 'KM', 78: 'KM', 79: 'KM', 80: 'KM', 81: 'KM', 82: 'KM', 83: 'KM', 84: 'KM', 85: 'KM', 86: 'KM', 87: 'KM', 88: 'KM', 89: 'KM', 90: 'KM', 91: 'KM', 92: 'KM', 93: 'KM', 94: 'KM', 95: 'KM', 96: 'KM', 97: 'KM', 98: 'KM', 99: 'KM', 100: 'KM'}\n"
     ]
    }
   ],
   "source": [
    "# словарь из 100 элементов с одинаковыми значениями\n",
    "\n",
    "dict=dict.fromkeys(range(1,101),'KM')\n",
    "print(dict)"
   ]
  },
  {
   "cell_type": "markdown",
   "id": "a5d6e1a3-61e4-4b86-b830-8b8f5c937ea8",
   "metadata": {},
   "source": [
    "#### 2.9. Переменная"
   ]
  },
  {
   "cell_type": "code",
   "execution_count": 874,
   "id": "8bd8beeb-0775-4e3a-8c8c-ffa38035fc61",
   "metadata": {},
   "outputs": [
    {
     "name": "stdout",
     "output_type": "stream",
     "text": [
      "[1, 2, [...]]\n",
      "{1: {...}}\n"
     ]
    }
   ],
   "source": [
    "# примеры создания циклического объекта для различных встроенных типов.\n",
    "\n",
    "l=[1,2]\n",
    "l.append(l)\n",
    "print(l)\n",
    "\n",
    "d={1:'ab'}\n",
    "d[1]=d\n",
    "print(d)"
   ]
  },
  {
   "cell_type": "code",
   "execution_count": 876,
   "id": "a099ab3d-f859-465f-9c64-5093d328f7ae",
   "metadata": {},
   "outputs": [
    {
     "data": {
      "text/plain": [
       "5"
      ]
     },
     "execution_count": 876,
     "metadata": {},
     "output_type": "execute_result"
    }
   ],
   "source": [
    "# объект, на который ссылаются четыре переменные. Как можно узнать количество ссылок для заданного объекта?\n",
    "\n",
    "import sys\n",
    "a=b=c=d=[5]\n",
    "sys.getrefcount(a)"
   ]
  },
  {
   "cell_type": "markdown",
   "id": "f94edbe2-4649-46c4-83e6-8980c9bef87c",
   "metadata": {},
   "source": [
    "Чтобы узнать количество ссылок на заданный объект\n",
    ", можно воспользоваться модулем sys и его функцией getrefcount. Она возвращает количество ссылок на объект, включая временную ссылку, созданную при вызове этой функции."
   ]
  },
  {
   "cell_type": "code",
   "execution_count": 879,
   "id": "954f844f-9e23-4542-b1f1-f35c96b68ba9",
   "metadata": {},
   "outputs": [
    {
     "name": "stdout",
     "output_type": "stream",
     "text": [
      "[1, 2, 3]\n",
      "[1, 2, 3]\n",
      "[1, 2, 3]\n",
      "[1, 2, 3]\n"
     ]
    }
   ],
   "source": [
    "# nриведите три различных способа копирования списка.\n",
    "\n",
    "l=[1,2,3]\n",
    "print(l)\n",
    "\n",
    "l1=l.copy()\n",
    "print(l1)\n",
    "\n",
    "l2=l[:]\n",
    "print(l2)\n",
    "\n",
    "l3=l.__class__(l)\n",
    "print(l3)"
   ]
  },
  {
   "cell_type": "markdown",
   "id": "c58a076a-4506-4056-9070-34f551fe5b13",
   "metadata": {},
   "source": [
    "#### 2.10. Выражение спискового включения"
   ]
  },
  {
   "cell_type": "code",
   "execution_count": 882,
   "id": "5f9d6f87-1765-4b55-aeb8-3a5205439b96",
   "metadata": {},
   "outputs": [
    {
     "data": {
      "text/plain": [
       "{'a', 'b', 'e', 'i', 'r', 'u'}"
      ]
     },
     "execution_count": 882,
     "metadata": {},
     "output_type": "execute_result"
    }
   ],
   "source": [
    "# пример создания множества с использованием синтаксиса включения с условием.\n",
    "\n",
    "{x for x in 'attribute' if x!='t'}"
   ]
  },
  {
   "cell_type": "code",
   "execution_count": 884,
   "id": "d53320fb-14e8-4630-8895-f322f562b10e",
   "metadata": {},
   "outputs": [
    {
     "data": {
      "text/plain": [
       "[['a00', 'a01', 'a02', 'a03', 'a04', 'a05', 'a06', 'a07', 'a08'],\n",
       " ['a10', 'a11', 'a12', 'a13', 'a14', 'a15', 'a16', 'a17', 'a18'],\n",
       " ['a20', 'a21', 'a22', 'a23', 'a24', 'a25', 'a26', 'a27', 'a28'],\n",
       " ['a30', 'a31', 'a32', 'a33', 'a34', 'a35', 'a36', 'a37', 'a38'],\n",
       " ['a40', 'a41', 'a42', 'a43', 'a44', 'a45', 'a46', 'a47', 'a48'],\n",
       " ['a50', 'a51', 'a52', 'a53', 'a54', 'a55', 'a56', 'a57', 'a58'],\n",
       " ['a60', 'a61', 'a62', 'a63', 'a64', 'a65', 'a66', 'a67', 'a68'],\n",
       " ['a70', 'a71', 'a72', 'a73', 'a74', 'a75', 'a76', 'a77', 'a78']]"
      ]
     },
     "execution_count": 884,
     "metadata": {},
     "output_type": "execute_result"
    }
   ],
   "source": [
    "# пример создания числовой матрицы размера 7 × 8 на основе списка с использованием включений, вложенных друг в друга. Попробуйте создать аналогичную матрицу, используя инструменты расширения numpy.\n",
    "\n",
    "m=[[f'a{j}{i}' for i in range(9)] for j in range(8)]\n",
    "m\n",
    "\n"
   ]
  },
  {
   "cell_type": "code",
   "execution_count": 886,
   "id": "72d99d4e-31d4-4d5b-9ccc-07c468e93743",
   "metadata": {},
   "outputs": [
    {
     "data": {
      "text/plain": [
       "[['a00', 'a01', 'a02', 'a03', 'a04', 'a05', 'a06', 'a07', 'a08'],\n",
       " ['a10', 'a11', 'a12', 'a13', 'a14', 'a15', 'a16', 'a17', 'a18'],\n",
       " ['a20', 'a21', 'a22', 'a23', 'a24', 'a25', 'a26', 'a27', 'a28'],\n",
       " ['a30', 'a31', 'a32', 'a33', 'a34', 'a35', 'a36', 'a37', 'a38'],\n",
       " ['a40', 'a41', 'a42', 'a43', 'a44', 'a45', 'a46', 'a47', 'a48'],\n",
       " ['a50', 'a51', 'a52', 'a53', 'a54', 'a55', 'a56', 'a57', 'a58'],\n",
       " ['a60', 'a61', 'a62', 'a63', 'a64', 'a65', 'a66', 'a67', 'a68'],\n",
       " ['a70', 'a71', 'a72', 'a73', 'a74', 'a75', 'a76', 'a77', 'a78']]"
      ]
     },
     "execution_count": 886,
     "metadata": {},
     "output_type": "execute_result"
    }
   ],
   "source": [
    "import numpy as np\n",
    "m=[[f'a{j}{i}' for i in np.arange(9)] for j in np.arange(8)]\n",
    "m"
   ]
  },
  {
   "cell_type": "code",
   "execution_count": 888,
   "id": "5b3a1ed3-44d2-4eda-bb64-aedabd3c93bb",
   "metadata": {},
   "outputs": [
    {
     "data": {
      "text/plain": [
       "{0: {0: 0, 1: 0, 2: 0, 3: 0},\n",
       " 1: {0: 0, 1: 1, 2: 2, 3: 3},\n",
       " 2: {0: 0, 1: 2, 2: 4, 3: 6},\n",
       " 3: {0: 0, 1: 3, 2: 6, 3: 9}}"
      ]
     },
     "execution_count": 888,
     "metadata": {},
     "output_type": "execute_result"
    }
   ],
   "source": [
    "# пример создания словаря с использованием синтаксиса включения с двумя уровнями вложенности.\n",
    "\n",
    "{i: {j: i*j for j in range(4)} for i in range(4)}"
   ]
  },
  {
   "cell_type": "markdown",
   "id": "b494da45-23b4-4cbd-8a24-23581e502dd6",
   "metadata": {},
   "source": [
    "#### 2.11. Форматированный вывод строк"
   ]
  },
  {
   "cell_type": "code",
   "execution_count": 1008,
   "id": "a121321a-8a51-4917-90d1-a2188ff2495d",
   "metadata": {},
   "outputs": [
    {
     "name": "stdout",
     "output_type": "stream",
     "text": [
      "this is 2025\n",
      "this is 2025\n",
      "this is 2025\n"
     ]
    }
   ],
   "source": [
    "# пример форматированного вывода с использованием синтаксиса f’…{variable=:…}’, где variable – заданная переменная. Получите аналогичный результат с использованием бинарной операции % и строкового метода format.\n",
    "\n",
    "year=2025\n",
    "\n",
    "print(f'this is {year}')\n",
    "\n",
    "print('this is %s' %(year))\n",
    "\n",
    "print('this is {}'.format(year))"
   ]
  },
  {
   "cell_type": "code",
   "execution_count": 1010,
   "id": "1db0fe11-28b7-4b28-8c80-bf77c44f3316",
   "metadata": {},
   "outputs": [
    {
     "name": "stdout",
     "output_type": "stream",
     "text": [
      "result is 225\n",
      "result is 225\n",
      "result is 225\n"
     ]
    }
   ],
   "source": [
    "# пример форматированного вывода с использованием синтаксиса f’…{expression=:…}’, где expression – заданное выражение. Получите аналогичный результат с использованием бинарной операции % и строкового метода format.\n",
    "\n",
    "exp=15**2\n",
    "\n",
    "print(f'result is {exp}')\n",
    "\n",
    "print('result is %s' %(exp))\n",
    "\n",
    "print('result is {}'.format(exp))"
   ]
  },
  {
   "cell_type": "markdown",
   "id": "4aafcd22-83e3-4a0e-9f08-69c9292e0e9c",
   "metadata": {},
   "source": [
    "#### 2.12. Файловый объект"
   ]
  },
  {
   "cell_type": "code",
   "execution_count": 1050,
   "id": "532aa59e-dfeb-45fc-92de-11437ff5835e",
   "metadata": {},
   "outputs": [
    {
     "name": "stdout",
     "output_type": "stream",
     "text": [
      "every\n",
      "oxotnik\n",
      "wishes\n",
      "to know\n",
      "\n",
      "every\n",
      "\n",
      "every\n",
      "\n",
      "['every\\n', 'oxotnik\\n', 'wishes\\n', 'to know\\n']\n",
      "every\n",
      "oxotnik\n",
      "wishes\n",
      "to know\n",
      "where\n",
      "\n",
      "every\n",
      "oxotnik\n",
      "wishes\n",
      "to know\n",
      "where\n",
      "fazan sits\n"
     ]
    }
   ],
   "source": [
    "# пример, в котором используются следующие функции и методы для работы с файловым объектом: open, close, read, readline, readlines, write, writelines.\n",
    "\n",
    "file=open('rainboww.txt',encoding='utf-8')\n",
    "print(file.read())\n",
    "file.close()\n",
    "\n",
    "file=open('rainboww.txt',encoding='utf-8')\n",
    "print(file.read(5)+'\\n')\n",
    "file.close()\n",
    "\n",
    "file=open('rainboww.txt',encoding='utf-8')\n",
    "print(file.readline())\n",
    "file.close()\n",
    "\n",
    "file=open('rainboww.txt',encoding='utf-8')\n",
    "print(file.readlines())\n",
    "file.close()\n",
    "\n",
    "file=open('rainboww.txt','a')\n",
    "file.write('where'+'\\n')\n",
    "file.close()\n",
    "file=open('rainboww.txt',encoding='utf-8')\n",
    "print(file.read())\n",
    "file.close()\n",
    "\n",
    "file=open('rainboww.txt','a')\n",
    "file.writelines('fazan '+'sits')\n",
    "file.close()\n",
    "file=open('rainboww.txt',encoding='utf-8')\n",
    "print(file.read())\n",
    "file.close()"
   ]
  },
  {
   "cell_type": "markdown",
   "id": "22edbf94-98b3-46c5-90ac-841f90e0e4aa",
   "metadata": {},
   "source": [
    "### Задание 2.3. "
   ]
  },
  {
   "cell_type": "code",
   "execution_count": 1054,
   "id": "280545be-ae4a-4545-915e-e4a6fa5b86cc",
   "metadata": {},
   "outputs": [
    {
     "name": "stdout",
     "output_type": "stream",
     "text": [
      "\\c Æ\n"
     ]
    },
    {
     "name": "stderr",
     "output_type": "stream",
     "text": [
      "<>:2: SyntaxWarning: invalid escape sequence '\\c'\n",
      "<>:2: SyntaxWarning: invalid escape sequence '\\c'\n",
      "C:\\Users\\Veronika\\AppData\\Local\\Temp\\ipykernel_5552\\22040240.py:2: SyntaxWarning: invalid escape sequence '\\c'\n",
      "  print('\\c \\xc6')\n"
     ]
    }
   ],
   "source": [
    "#1\n",
    "print('\\c \\xc6')"
   ]
  },
  {
   "cell_type": "markdown",
   "id": "4341c808-9b13-44c3-b469-cda9f36f0b60",
   "metadata": {},
   "source": [
    "Python не распознает символ после \\ в качестве допустимого управляющего кода"
   ]
  },
  {
   "cell_type": "code",
   "execution_count": 1067,
   "id": "3be5b7b7-428d-4626-b065-8944a4a46a5e",
   "metadata": {},
   "outputs": [
    {
     "ename": "IndexError",
     "evalue": "string index out of range",
     "output_type": "error",
     "traceback": [
      "\u001b[1;31m---------------------------------------------------------------------------\u001b[0m",
      "\u001b[1;31mIndexError\u001b[0m                                Traceback (most recent call last)",
      "Cell \u001b[1;32mIn[1067], line 3\u001b[0m\n\u001b[0;32m      1\u001b[0m \u001b[38;5;66;03m#2\u001b[39;00m\n\u001b[0;32m      2\u001b[0m \u001b[38;5;28mstr\u001b[39m\u001b[38;5;241m=\u001b[39m\u001b[38;5;124m'\u001b[39m\u001b[38;5;124mspring\u001b[39m\u001b[38;5;124m'\u001b[39m\n\u001b[1;32m----> 3\u001b[0m \u001b[38;5;28mstr\u001b[39m[\u001b[38;5;241m10\u001b[39m]\n",
      "\u001b[1;31mIndexError\u001b[0m: string index out of range"
     ]
    }
   ],
   "source": [
    "#2\n",
    "str='spring'\n",
    "str[10]"
   ]
  },
  {
   "cell_type": "markdown",
   "id": "98e183aa-1c1e-4957-b081-ba16e08f54c1",
   "metadata": {},
   "source": [
    "Индексация за пределами последовательности приводит к ошибке\n"
   ]
  },
  {
   "cell_type": "code",
   "execution_count": 1070,
   "id": "25510f90-642c-4520-8464-9932844bd6ae",
   "metadata": {},
   "outputs": [
    {
     "ename": "TypeError",
     "evalue": "can only concatenate list (not \"str\") to list",
     "output_type": "error",
     "traceback": [
      "\u001b[1;31m---------------------------------------------------------------------------\u001b[0m",
      "\u001b[1;31mTypeError\u001b[0m                                 Traceback (most recent call last)",
      "Cell \u001b[1;32mIn[1070], line 2\u001b[0m\n\u001b[0;32m      1\u001b[0m \u001b[38;5;66;03m#3\u001b[39;00m\n\u001b[1;32m----> 2\u001b[0m [\u001b[38;5;241m1\u001b[39m]\u001b[38;5;241m+\u001b[39m\u001b[38;5;124m'\u001b[39m\u001b[38;5;124m1\u001b[39m\u001b[38;5;124m'\u001b[39m\n",
      "\u001b[1;31mTypeError\u001b[0m: can only concatenate list (not \"str\") to list"
     ]
    }
   ],
   "source": [
    "#3\n",
    "[1]+'1'"
   ]
  },
  {
   "cell_type": "markdown",
   "id": "a9b2f816-63d3-4166-97ed-8e443180577b",
   "metadata": {},
   "source": [
    "В выражении с операцией сложения + для последовательностей в качестве\n",
    "операндов могут быть использованы только объекты одного и того же типа. Нельзя\n",
    "использовать последовательности различных типов в операции сложения + из-за\n",
    "строгой типизации объектов в Python."
   ]
  },
  {
   "cell_type": "code",
   "execution_count": 1073,
   "id": "a3833f37-5740-4ce0-bd31-a91ede5fb768",
   "metadata": {},
   "outputs": [
    {
     "ename": "NameError",
     "evalue": "name 'dict1' is not defined",
     "output_type": "error",
     "traceback": [
      "\u001b[1;31m---------------------------------------------------------------------------\u001b[0m",
      "\u001b[1;31mNameError\u001b[0m                                 Traceback (most recent call last)",
      "Cell \u001b[1;32mIn[1073], line 2\u001b[0m\n\u001b[0;32m      1\u001b[0m \u001b[38;5;66;03m#4\u001b[39;00m\n\u001b[1;32m----> 2\u001b[0m dict1[\u001b[38;5;241m1\u001b[39m,\u001b[38;5;241m2\u001b[39m]\u001b[38;5;241m=\u001b[39m\u001b[38;5;241m12\u001b[39m\n\u001b[0;32m      3\u001b[0m \u001b[38;5;28mdict\u001b[39m[\u001b[38;5;124m'\u001b[39m\u001b[38;5;124mtwo\u001b[39m\u001b[38;5;124m'\u001b[39m]\n",
      "\u001b[1;31mNameError\u001b[0m: name 'dict1' is not defined"
     ]
    }
   ],
   "source": [
    "#4\n",
    "dict1[1,2]=12\n",
    "dict['two']"
   ]
  },
  {
   "cell_type": "markdown",
   "id": "e944a17a-dd69-4895-9f71-8e8494867a86",
   "metadata": {},
   "source": [
    "Индексация по несуществующему ключу словаря приводит к ошибке"
   ]
  },
  {
   "cell_type": "code",
   "execution_count": 1078,
   "id": "42eb2fa8-ef28-494d-9153-1707a9740462",
   "metadata": {},
   "outputs": [
    {
     "ename": "TypeError",
     "evalue": "'tuple' object does not support item assignment",
     "output_type": "error",
     "traceback": [
      "\u001b[1;31m---------------------------------------------------------------------------\u001b[0m",
      "\u001b[1;31mTypeError\u001b[0m                                 Traceback (most recent call last)",
      "Cell \u001b[1;32mIn[1078], line 3\u001b[0m\n\u001b[0;32m      1\u001b[0m \u001b[38;5;66;03m#5\u001b[39;00m\n\u001b[0;32m      2\u001b[0m t \u001b[38;5;241m=\u001b[39m [\u001b[38;5;241m1\u001b[39m,\u001b[38;5;241m2\u001b[39m], {\u001b[38;5;241m1\u001b[39m:\u001b[38;5;241m2\u001b[39m}, {\u001b[38;5;241m1\u001b[39m,\u001b[38;5;241m2\u001b[39m} \n\u001b[1;32m----> 3\u001b[0m t[\u001b[38;5;241m0\u001b[39m] \u001b[38;5;241m=\u001b[39m \u001b[38;5;241m0\u001b[39m\n",
      "\u001b[1;31mTypeError\u001b[0m: 'tuple' object does not support item assignment"
     ]
    }
   ],
   "source": [
    "#5\n",
    "t = [1,2], {1:2}, {1,2} \n",
    "t[0] = 0"
   ]
  },
  {
   "cell_type": "markdown",
   "id": "4e69cb88-0993-4c43-afb2-4d151c2f86c1",
   "metadata": {},
   "source": [
    "Кортеж нельзя изменять, перезаписывать после создания, уменьшить либо увеличить также нельзя/"
   ]
  },
  {
   "cell_type": "code",
   "execution_count": 1081,
   "id": "84280e6e-15ba-4309-af82-17d05380a44c",
   "metadata": {},
   "outputs": [
    {
     "ename": "TypeError",
     "evalue": "unhashable type: 'list'",
     "output_type": "error",
     "traceback": [
      "\u001b[1;31m---------------------------------------------------------------------------\u001b[0m",
      "\u001b[1;31mTypeError\u001b[0m                                 Traceback (most recent call last)",
      "Cell \u001b[1;32mIn[1081], line 2\u001b[0m\n\u001b[0;32m      1\u001b[0m \u001b[38;5;66;03m#6\u001b[39;00m\n\u001b[1;32m----> 2\u001b[0m {\u001b[38;5;241m1\u001b[39m, \u001b[38;5;124m'\u001b[39m\u001b[38;5;124mstr\u001b[39m\u001b[38;5;124m'\u001b[39m, (\u001b[38;5;241m1\u001b[39m,)}\u001b[38;5;241m.\u001b[39madd([\u001b[38;5;241m1\u001b[39m])\n",
      "\u001b[1;31mTypeError\u001b[0m: unhashable type: 'list'"
     ]
    }
   ],
   "source": [
    "#6\n",
    "{1, 'str', (1,)}.add([1])"
   ]
  },
  {
   "cell_type": "markdown",
   "id": "ee4a4f9d-31ec-4e76-b180-da3166572263",
   "metadata": {},
   "source": [
    "Элементами множества могут являться только объекты неизменяемых типов: число,\n",
    "строка, кортеж. Список добавитть нельзя"
   ]
  },
  {
   "cell_type": "code",
   "execution_count": 1084,
   "id": "b54135d5-3bfb-49d4-ac49-7ee79d823de6",
   "metadata": {},
   "outputs": [
    {
     "ename": "NameError",
     "evalue": "name 'dict1' is not defined",
     "output_type": "error",
     "traceback": [
      "\u001b[1;31m---------------------------------------------------------------------------\u001b[0m",
      "\u001b[1;31mNameError\u001b[0m                                 Traceback (most recent call last)",
      "Cell \u001b[1;32mIn[1084], line 2\u001b[0m\n\u001b[0;32m      1\u001b[0m \u001b[38;5;66;03m#7\u001b[39;00m\n\u001b[1;32m----> 2\u001b[0m \u001b[38;5;28mprint\u001b[39m(dict1\u001b[38;5;241m.\u001b[39mget(\u001b[38;5;124m'\u001b[39m\u001b[38;5;124mone\u001b[39m\u001b[38;5;124m'\u001b[39m), dict1\u001b[38;5;241m.\u001b[39mget(\u001b[38;5;124m'\u001b[39m\u001b[38;5;124mthree\u001b[39m\u001b[38;5;124m'\u001b[39m))\n\u001b[0;32m      3\u001b[0m dict1[\u001b[38;5;124m'\u001b[39m\u001b[38;5;124mthree\u001b[39m\u001b[38;5;124m'\u001b[39m]\n",
      "\u001b[1;31mNameError\u001b[0m: name 'dict1' is not defined"
     ]
    }
   ],
   "source": [
    "#7\n",
    "print(dict1.get('one'), dict1.get('three'))\n",
    "dict1['three']"
   ]
  },
  {
   "cell_type": "markdown",
   "id": "923e9f41-9d2f-43bb-8c63-01495f9595e0",
   "metadata": {},
   "source": [
    "Словарный метод get(key) возвращает значение, ассоциированное с ключом\n",
    "key , если ключ существует, или None , если ключа key в словаре нет. При этом\n",
    "индексация словаря по несуществующему ключу является ошибкой.\n"
   ]
  },
  {
   "cell_type": "code",
   "execution_count": 1096,
   "id": "5891c00b-61ce-452d-b58c-25c012ae4a74",
   "metadata": {},
   "outputs": [
    {
     "name": "stdout",
     "output_type": "stream",
     "text": [
      "string -1\n"
     ]
    },
    {
     "ename": "ValueError",
     "evalue": "substring not found",
     "output_type": "error",
     "traceback": [
      "\u001b[1;31m---------------------------------------------------------------------------\u001b[0m",
      "\u001b[1;31mValueError\u001b[0m                                Traceback (most recent call last)",
      "Cell \u001b[1;32mIn[1096], line 4\u001b[0m\n\u001b[0;32m      2\u001b[0m s\u001b[38;5;241m=\u001b[39m\u001b[38;5;124m'\u001b[39m\u001b[38;5;124mstring\u001b[39m\u001b[38;5;124m'\u001b[39m\n\u001b[0;32m      3\u001b[0m \u001b[38;5;28mprint\u001b[39m(s, s\u001b[38;5;241m.\u001b[39mfind(\u001b[38;5;124m'\u001b[39m\u001b[38;5;124m-\u001b[39m\u001b[38;5;124m'\u001b[39m))\n\u001b[1;32m----> 4\u001b[0m s\u001b[38;5;241m.\u001b[39mindex(\u001b[38;5;124m'\u001b[39m\u001b[38;5;124m-\u001b[39m\u001b[38;5;124m'\u001b[39m)\n",
      "\u001b[1;31mValueError\u001b[0m: substring not found"
     ]
    }
   ],
   "source": [
    "#8\n",
    "s='string'\n",
    "print(s, s.find('-'))\n",
    "s.index('-')"
   ]
  },
  {
   "cell_type": "markdown",
   "id": "1b2291fd-84a5-4b18-a6c7-8ad09cff5cd9",
   "metadata": {},
   "source": [
    "Отличаются результаты выполнения методов find и index тогда, когда подстрока не содержится в строке. Find возвращает отрицательный индекс, а index возвращает ошибку."
   ]
  },
  {
   "cell_type": "code",
   "execution_count": 1101,
   "id": "adbde03c-971d-4d36-9a82-10640f73f044",
   "metadata": {},
   "outputs": [
    {
     "ename": "NameError",
     "evalue": "name 'k' is not defined",
     "output_type": "error",
     "traceback": [
      "\u001b[1;31m---------------------------------------------------------------------------\u001b[0m",
      "\u001b[1;31mNameError\u001b[0m                                 Traceback (most recent call last)",
      "Cell \u001b[1;32mIn[1101], line 3\u001b[0m\n\u001b[0;32m      1\u001b[0m \u001b[38;5;66;03m#9\u001b[39;00m\n\u001b[0;32m      2\u001b[0m a \u001b[38;5;241m=\u001b[39m \u001b[38;5;241m1\u001b[39m\n\u001b[1;32m----> 3\u001b[0m a, k\n",
      "\u001b[1;31mNameError\u001b[0m: name 'k' is not defined"
     ]
    }
   ],
   "source": [
    "#9\n",
    "a = 1\n",
    "a, k"
   ]
  },
  {
   "cell_type": "markdown",
   "id": "ed6e3ea7-a6eb-443b-b76e-4f298be469a2",
   "metadata": {},
   "source": [
    "Чтобы переменную можно было использовать, ей обязательно должно быть\n",
    "присвоено значение. Использование переменной до того, как ей было присвоено\n",
    "значение, всегда приведет к ошибке."
   ]
  },
  {
   "cell_type": "markdown",
   "id": "ff224b86-5bda-4e63-a9dc-5c730f1eec83",
   "metadata": {},
   "source": [
    "## Задание 3. Ответы на контрольные вопросы"
   ]
  },
  {
   "cell_type": "markdown",
   "id": "67aeadb0-266a-46a8-b2cb-292e0cf8bbe5",
   "metadata": {},
   "source": [
    "##### Глава 4. Что означает “неизменяемость”, и какие три основных типа Python считаются неизменяемыми?"
   ]
  },
  {
   "cell_type": "markdown",
   "id": "4e01d5d7-81d3-4a3a-9687-0841ca716ba7",
   "metadata": {},
   "source": [
    "Неизменяемость в Python означает, что объект не может быть изменён после его создания. К таким типам относятся строки, кортежи, числа"
   ]
  },
  {
   "cell_type": "code",
   "execution_count": 2,
   "id": "2783fa4f-33de-443a-b0b5-79c658c5cf23",
   "metadata": {},
   "outputs": [
    {
     "ename": "AttributeError",
     "evalue": "'str' object has no attribute 'append'",
     "output_type": "error",
     "traceback": [
      "\u001b[1;31m---------------------------------------------------------------------------\u001b[0m",
      "\u001b[1;31mAttributeError\u001b[0m                            Traceback (most recent call last)",
      "Cell \u001b[1;32mIn[2], line 2\u001b[0m\n\u001b[0;32m      1\u001b[0m s\u001b[38;5;241m=\u001b[39m\u001b[38;5;124m'\u001b[39m\u001b[38;5;124mabcd\u001b[39m\u001b[38;5;124m'\u001b[39m\n\u001b[1;32m----> 2\u001b[0m s\u001b[38;5;241m.\u001b[39mappend(\u001b[38;5;124m'\u001b[39m\u001b[38;5;124me\u001b[39m\u001b[38;5;124m'\u001b[39m)\n",
      "\u001b[1;31mAttributeError\u001b[0m: 'str' object has no attribute 'append'"
     ]
    }
   ],
   "source": [
    "s='abcd'\n",
    "s.append('e')"
   ]
  },
  {
   "cell_type": "code",
   "execution_count": 4,
   "id": "f8320f9f-4e4e-4e2a-9e87-29077ac590cb",
   "metadata": {},
   "outputs": [
    {
     "ename": "AttributeError",
     "evalue": "'tuple' object has no attribute 'append'",
     "output_type": "error",
     "traceback": [
      "\u001b[1;31m---------------------------------------------------------------------------\u001b[0m",
      "\u001b[1;31mAttributeError\u001b[0m                            Traceback (most recent call last)",
      "Cell \u001b[1;32mIn[4], line 2\u001b[0m\n\u001b[0;32m      1\u001b[0m t\u001b[38;5;241m=\u001b[39m(\u001b[38;5;241m1\u001b[39m,\u001b[38;5;241m2\u001b[39m,\u001b[38;5;241m3\u001b[39m,\u001b[38;5;241m4\u001b[39m)\n\u001b[1;32m----> 2\u001b[0m t\u001b[38;5;241m.\u001b[39mappend(\u001b[38;5;241m5\u001b[39m)\n",
      "\u001b[1;31mAttributeError\u001b[0m: 'tuple' object has no attribute 'append'"
     ]
    }
   ],
   "source": [
    "t=(1,2,3,4)\n",
    "t.append(5)"
   ]
  },
  {
   "cell_type": "code",
   "execution_count": 1128,
   "id": "6882a5a1-9922-4d19-927c-b2473afd8d3d",
   "metadata": {},
   "outputs": [
    {
     "name": "stdout",
     "output_type": "stream",
     "text": [
      "140734913325624\n",
      "140734913325656\n"
     ]
    }
   ],
   "source": [
    "a=5\n",
    "print(id(a))\n",
    "a+=1\n",
    "print(id(a))"
   ]
  },
  {
   "cell_type": "markdown",
   "id": "e95d22b9-e458-4e46-858b-344f0fb7169b",
   "metadata": {},
   "source": [
    "##### Глава 5. Каким будет значение выражения 2*(3+4) в Python?"
   ]
  },
  {
   "cell_type": "markdown",
   "id": "656fbf40-d205-44b7-94d9-b504241db526",
   "metadata": {},
   "source": [
    "Сначала выполняются действия в скобках, т.е. 3+4=7. Затем выполняется умножение 2*7=14."
   ]
  },
  {
   "cell_type": "code",
   "execution_count": 1132,
   "id": "4343db40-5753-450d-a74f-04b3aca85526",
   "metadata": {},
   "outputs": [
    {
     "name": "stdout",
     "output_type": "stream",
     "text": [
      "14\n"
     ]
    }
   ],
   "source": [
    "print(2*(3+4))"
   ]
  },
  {
   "cell_type": "markdown",
   "id": "5b24689c-98de-4f51-9556-7124eb62c331",
   "metadata": {},
   "source": [
    "##### Глава 6. Взгляните на следующие три оператора. Изменяют ли они значение, выводимое для А? А=\"spam” В=А B=\"shrubbery\"?"
   ]
  },
  {
   "cell_type": "markdown",
   "id": "797e81b8-ff45-4f5b-b109-f893ec48fbf1",
   "metadata": {},
   "source": [
    "Операторы не изменяют значение переменной A. После выполнения кода переменная A остаётся равной \"spam\". Присваивание B = \"shrubbery\" изменяет лишь то, на что ссылается B, и не влияет на A."
   ]
  },
  {
   "cell_type": "code",
   "execution_count": 1158,
   "id": "14fddaa9-7378-43fa-a8d4-4a904cada33e",
   "metadata": {},
   "outputs": [
    {
     "name": "stdout",
     "output_type": "stream",
     "text": [
      "spam\n",
      "shrubbery\n"
     ]
    }
   ],
   "source": [
    "А=\"spam\"\n",
    "В=А \n",
    "B=\"shrubbery\"\n",
    "print(A)\n",
    "print(B)"
   ]
  },
  {
   "cell_type": "markdown",
   "id": "22ded7e4-54ea-40ef-ad77-43380a61de9f",
   "metadata": {},
   "source": [
    "##### Глава 7. Можно ли применять выражение среза строки для списка?"
   ]
  },
  {
   "cell_type": "markdown",
   "id": "b5d697fb-5bdb-4ee6-8e29-1e915d7d62cd",
   "metadata": {},
   "source": [
    "Да, выражение среза можно применять как к строкам, так и к спискам, потому что оба являются последовательностями в Python. "
   ]
  },
  {
   "cell_type": "code",
   "execution_count": 1167,
   "id": "434ff6d6-935c-4faf-8c1b-86ae66a98b8a",
   "metadata": {},
   "outputs": [
    {
     "name": "stdout",
     "output_type": "stream",
     "text": [
      "123\n",
      "[4, 5, 6]\n"
     ]
    }
   ],
   "source": [
    "s='123456789'\n",
    "print(s[0:3])\n",
    "\n",
    "l=[1,2,3,4,5,6,7,8,9]\n",
    "print(l[3:6])"
   ]
  },
  {
   "cell_type": "markdown",
   "id": "354ff7bc-7ab0-426a-a03e-fb9f1b00c09c",
   "metadata": {},
   "source": [
    "##### Глава 8. Назовите четыре операции, которые изменяют списковый объект на месте"
   ]
  },
  {
   "cell_type": "markdown",
   "id": "e9b4f7de-5e89-4f2c-b90d-c809fccab57b",
   "metadata": {},
   "source": [
    "Методы append, extend, insert и reverse изменяют исходный объект списка без создания нового"
   ]
  },
  {
   "cell_type": "code",
   "execution_count": 1188,
   "id": "b30bb47e-0680-42ca-8c37-dfa878d29096",
   "metadata": {},
   "outputs": [
    {
     "name": "stdout",
     "output_type": "stream",
     "text": [
      "[1, 2, 3, 4, 5]\n",
      "[1, 2, 3, 4, 5, 7, 8]\n",
      "[1, 2, 3, 4, 5, 6, 7, 8]\n",
      "[8, 7, 6, 5, 4, 3, 2, 1]\n"
     ]
    }
   ],
   "source": [
    "l=[1,2,3,4]\n",
    "l.append(5)\n",
    "print(l)\n",
    "\n",
    "l.extend([7,8])\n",
    "print(l)\n",
    "\n",
    "l.insert(5,6)\n",
    "print(l)\n",
    "\n",
    "l.reverse()\n",
    "print(l)"
   ]
  },
  {
   "cell_type": "markdown",
   "id": "d3037481-6044-4645-aa86-adf70330bf0b",
   "metadata": {},
   "source": [
    "##### Глава 9. Напишите выражение, которое изменяет первый элемент в кортеже. В процессе кортеж (4,5,6) должен стать (1,5,6)"
   ]
  },
  {
   "cell_type": "code",
   "execution_count": 1198,
   "id": "63760c22-8b43-4dc7-b0cc-9faff6ca808b",
   "metadata": {},
   "outputs": [
    {
     "name": "stdout",
     "output_type": "stream",
     "text": [
      "(1, 5, 6)\n"
     ]
    }
   ],
   "source": [
    "t=(4,5,6)\n",
    "t=t[1:]\n",
    "t=(1,)+t\n",
    "print(t)"
   ]
  },
  {
   "cell_type": "code",
   "execution_count": 8,
   "id": "72cb242f-c840-4a8e-9a30-4cb19b3fdb19",
   "metadata": {},
   "outputs": [
    {
     "data": {
      "text/plain": [
       "[[...], 2, 3]"
      ]
     },
     "execution_count": 8,
     "metadata": {},
     "output_type": "execute_result"
    }
   ],
   "source": [
    "a = [1, 2, 3]\n",
    "a[0] = a\n",
    "a\n"
   ]
  },
  {
   "cell_type": "code",
   "execution_count": 10,
   "id": "e0bbcb68-6485-4944-a685-981b93545b5d",
   "metadata": {},
   "outputs": [
    {
     "data": {
      "text/plain": [
       "[[...], 2, 3]"
      ]
     },
     "execution_count": 10,
     "metadata": {},
     "output_type": "execute_result"
    }
   ],
   "source": [
    "a[0]"
   ]
  },
  {
   "cell_type": "code",
   "execution_count": null,
   "id": "2ef9acee-7b97-4beb-ae12-faee6916422b",
   "metadata": {},
   "outputs": [],
   "source": []
  }
 ],
 "metadata": {
  "kernelspec": {
   "display_name": "Python [conda env:base] *",
   "language": "python",
   "name": "conda-base-py"
  },
  "language_info": {
   "codemirror_mode": {
    "name": "ipython",
    "version": 3
   },
   "file_extension": ".py",
   "mimetype": "text/x-python",
   "name": "python",
   "nbconvert_exporter": "python",
   "pygments_lexer": "ipython3",
   "version": "3.12.7"
  }
 },
 "nbformat": 4,
 "nbformat_minor": 5
}
