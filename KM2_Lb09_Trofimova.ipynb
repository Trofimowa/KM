{
 "cells": [
  {
   "cell_type": "markdown",
   "id": "dbe75568-5bc8-4122-9cdc-86b8fe2ba31e",
   "metadata": {},
   "source": [
    "# Лабораторная работа 9.\n",
    "# Создание текстового файла большого объема с помощью генераторной функции\n"
   ]
  },
  {
   "cell_type": "markdown",
   "id": "4e36d808-2f93-4f13-ba3f-0e534bdd43d9",
   "metadata": {},
   "source": [
    "Трофимова Вероника Сергеевна, 06.06.2025"
   ]
  },
  {
   "cell_type": "code",
   "execution_count": 5,
   "id": "52ed43ac-bd3c-4687-b775-4c0621f5c962",
   "metadata": {},
   "outputs": [],
   "source": [
    "from random import randint"
   ]
  },
  {
   "cell_type": "code",
   "execution_count": 7,
   "id": "53e4efea-d789-4499-b91f-aba523ee55df",
   "metadata": {},
   "outputs": [
    {
     "data": {
      "text/plain": [
       "\u001b[1;31mSignature:\u001b[0m \u001b[0mrandint\u001b[0m\u001b[1;33m(\u001b[0m\u001b[0ma\u001b[0m\u001b[1;33m,\u001b[0m \u001b[0mb\u001b[0m\u001b[1;33m)\u001b[0m\u001b[1;33m\u001b[0m\u001b[1;33m\u001b[0m\u001b[0m\n",
       "\u001b[1;31mDocstring:\u001b[0m\n",
       "Return random integer in range [a, b], including both end points.\n",
       "        \n",
       "\u001b[1;31mFile:\u001b[0m      c:\\users\\veronika\\anaconda3\\lib\\random.py\n",
       "\u001b[1;31mType:\u001b[0m      method"
      ]
     },
     "metadata": {},
     "output_type": "display_data"
    }
   ],
   "source": [
    "?randint"
   ]
  },
  {
   "cell_type": "code",
   "execution_count": 9,
   "id": "ee2ea3eb-6710-4bc8-bdac-78fa0d39e706",
   "metadata": {},
   "outputs": [
    {
     "data": {
      "text/plain": [
       "'Код символа: 108, символ: l'"
      ]
     },
     "execution_count": 9,
     "metadata": {},
     "output_type": "execute_result"
    }
   ],
   "source": [
    "latin_code = (ord('a'), ord('z')) # соответствует type_symbols = 'latin'\n",
    "f'Код символа: {(c:=randint(*latin_code))}, символ: {chr(c)}'"
   ]
  },
  {
   "cell_type": "code",
   "execution_count": 11,
   "id": "2f1bf350-e0c7-4705-80da-cf9105679ae0",
   "metadata": {},
   "outputs": [],
   "source": [
    "from time import process_time"
   ]
  },
  {
   "cell_type": "code",
   "execution_count": 13,
   "id": "2e16f3c3-620a-44ed-94eb-13526d660dd3",
   "metadata": {},
   "outputs": [
    {
     "data": {
      "text/plain": [
       "\u001b[1;31mDocstring:\u001b[0m\n",
       "process_time() -> float\n",
       "\n",
       "Process time for profiling: sum of the kernel and user-space CPU time.\n",
       "\u001b[1;31mType:\u001b[0m      builtin_function_or_method"
      ]
     },
     "metadata": {},
     "output_type": "display_data"
    }
   ],
   "source": [
    "?process_time"
   ]
  },
  {
   "cell_type": "code",
   "execution_count": 15,
   "id": "50b93b17-c3ed-4d20-b98e-60afef2e751a",
   "metadata": {},
   "outputs": [
    {
     "name": "stdout",
     "output_type": "stream",
     "text": [
      "0.09375 секунд\n"
     ]
    }
   ],
   "source": [
    "start = process_time()\n",
    "[x**2 for x in range(1_000_000)]\n",
    "end = process_time()\n",
    "print(f'{end - start} секунд')"
   ]
  },
  {
   "cell_type": "markdown",
   "id": "c68b9fad-bc93-4868-8b49-3c9a3d81ff53",
   "metadata": {},
   "source": [
    "## Задание 9.1. Запись данных в текстовый файл\n"
   ]
  },
  {
   "cell_type": "code",
   "execution_count": 18,
   "id": "030f6c13-1699-4ff2-864c-16f48d3c9297",
   "metadata": {},
   "outputs": [],
   "source": [
    "file_name = 'test.txt'\n",
    "f = open(file_name, 'w')"
   ]
  },
  {
   "cell_type": "code",
   "execution_count": 20,
   "id": "0686ccfb-1447-427d-97d6-0a0e7fca38d3",
   "metadata": {},
   "outputs": [
    {
     "data": {
      "text/plain": [
       "['t\\n', 'e\\n', 's\\n', 't\\n']"
      ]
     },
     "execution_count": 20,
     "metadata": {},
     "output_type": "execute_result"
    }
   ],
   "source": [
    "lines_list = [f'{x}\\n' for x in 'test']\n",
    "lines_list"
   ]
  },
  {
   "cell_type": "code",
   "execution_count": 22,
   "id": "5837f96b-6d33-4065-a2e2-a48b5d3b7117",
   "metadata": {},
   "outputs": [],
   "source": [
    "f.writelines(lines_list)"
   ]
  },
  {
   "cell_type": "code",
   "execution_count": 24,
   "id": "ebb98fbe-924e-4128-bc16-dfdcb6ab18ac",
   "metadata": {},
   "outputs": [],
   "source": [
    "f.close()"
   ]
  },
  {
   "cell_type": "code",
   "execution_count": 26,
   "id": "7fc9617d-2ebd-4efa-8bf1-8c56f43ca070",
   "metadata": {},
   "outputs": [
    {
     "name": "stdout",
     "output_type": "stream",
     "text": [
      "t\n",
      "e\n",
      "s\n",
      "t\n"
     ]
    }
   ],
   "source": [
    "with open(file_name,'r') as f:\n",
    "    for line in f:\n",
    "        print(line, end='')"
   ]
  },
  {
   "cell_type": "code",
   "execution_count": 28,
   "id": "0457f38b-a16e-487c-9cfe-a94e79f5fe6b",
   "metadata": {},
   "outputs": [],
   "source": [
    "lines_gen_expr = (f'{x}\\n' for x in range(10**6))\n",
    "def lines_gen_fun(number_lines=10**6):\n",
    " yield from (f'{x}\\n' for x in range(number_lines))\n",
    "with open(file_name,'w') as f:\n",
    " f.writelines(lines_gen_expr)\n",
    " f.writelines(lines_gen_fun())"
   ]
  },
  {
   "cell_type": "code",
   "execution_count": 29,
   "id": "35570e31-ec26-4059-9dce-783c56f02ad7",
   "metadata": {},
   "outputs": [
    {
     "name": "stdout",
     "output_type": "stream",
     "text": [
      "6.569757461547852 Mb\n"
     ]
    }
   ],
   "source": [
    "def lines_gen_fun(number_lines = 10**6):\n",
    "    file_size = 0\n",
    "    for x in range(number_lines):\n",
    "        line = f'{x}\\n'\n",
    "        yield line\n",
    "        file_size += len(line)\n",
    "    print(f'{file_size/1024**2} Mb')\n",
    "\n",
    "with open(file_name,'w') as f:\n",
    "    f.writelines(lines_gen_fun())"
   ]
  },
  {
   "cell_type": "code",
   "execution_count": 32,
   "id": "e66585f1-e344-4539-90b0-f54853e0815f",
   "metadata": {},
   "outputs": [
    {
     "data": {
      "text/plain": [
       "(1, 1, 1, 2)"
      ]
     },
     "execution_count": 32,
     "metadata": {},
     "output_type": "execute_result"
    }
   ],
   "source": [
    "len('f'), len('f'.encode('utf8')), len('ц'), len('ц'.encode('utf8'))"
   ]
  },
  {
   "cell_type": "code",
   "execution_count": 34,
   "id": "c5fe31aa-cb41-4286-a251-4388812749ca",
   "metadata": {},
   "outputs": [
    {
     "name": "stdout",
     "output_type": "stream",
     "text": [
      "6.569757461547852 Mb\n",
      "0.875 секунд\n"
     ]
    }
   ],
   "source": [
    "with open(file_name,'w') as f:\n",
    "    start = process_time()\n",
    "    f.writelines(lines_gen_fun()) \n",
    "    end = process_time()\n",
    "    print(end - start, 'секунд')"
   ]
  },
  {
   "cell_type": "code",
   "execution_count": 36,
   "id": "6a51ff51-6d04-45bb-97c9-7987a6a1f2f2",
   "metadata": {},
   "outputs": [],
   "source": [
    "def lines_gen_fun(number_lines=10**6, status=False):\n",
    "    \"\"\"\n",
    "    Генераторная функция для создания строк с числами от 0 до number_lines.\n",
    "    Резултат это статус выполнения при включеном параметре `status`.\n",
    "    \"\"\"\n",
    "     \n",
    "    file_size = 0    # Общий размер файла \n",
    "    for x in range(number_lines):\n",
    "        line = f'{x}\\n'  #Cтрока это число + перенос строки\n",
    "        yield line  #Возвращаем сгенеренную строку\n",
    "        file_size += len(line) #Увеличиваем размер на длину текущей строки\n",
    "        if status and x % 10 == 0:  #Выводим прогресс(поставила ограничение на вывод каждой 10 строки, т.к комп отказывается по другому работать:( )\n",
    "            status_number = x / number_lines * 100       # Процент выполнения\n",
    "            print(f'\\r{int(status_number)}%', end='', flush=True)  # Выводим процент выполнения с перезапианной строкой \n",
    "    print(f'\\n {file_size / 1024**2} Mb')  "
   ]
  },
  {
   "cell_type": "code",
   "execution_count": 38,
   "id": "b2fae878-8ae4-4dc7-b5b1-3539b55dcede",
   "metadata": {},
   "outputs": [
    {
     "name": "stdout",
     "output_type": "stream",
     "text": [
      "99%\n",
      " 0.013246536254882812 Mb\n",
      "0.15625 секунд\n"
     ]
    }
   ],
   "source": [
    "with open(file_name,'w') as f:\n",
    "    start = process_time()\n",
    "    f.writelines(lines_gen_fun(3*10**3, status=True))\n",
    "    end = process_time()\n",
    "print(f'{end - start} секунд')"
   ]
  },
  {
   "cell_type": "markdown",
   "id": "caca13d4-04e2-4852-a602-dc4fd96634fd",
   "metadata": {},
   "source": [
    "## Задание 9.2. Генерация строк"
   ]
  },
  {
   "cell_type": "code",
   "execution_count": 40,
   "id": "5840292e-0e76-4dc4-aaf6-3c70a12c83ec",
   "metadata": {},
   "outputs": [],
   "source": [
    "latin_code = (ord('a'), ord('z')) \n",
    "number_words = (10, 20)\n",
    "number_symbols = (5, 10)"
   ]
  },
  {
   "cell_type": "code",
   "execution_count": 42,
   "id": "4d0d2041-79ff-4ae5-ba7a-ee50b131368b",
   "metadata": {},
   "outputs": [
    {
     "data": {
      "text/plain": [
       "'jgkbuow'"
      ]
     },
     "execution_count": 42,
     "metadata": {},
     "output_type": "execute_result"
    }
   ],
   "source": [
    "len_word = randint(*number_symbols)\n",
    "word = ''.join([chr(randint(*latin_code)) for i in range(len_word)])\n",
    "word"
   ]
  },
  {
   "cell_type": "code",
   "execution_count": 58,
   "id": "b82bfa54-06f9-4b74-be7a-167eb20cab21",
   "metadata": {},
   "outputs": [
    {
     "name": "stdout",
     "output_type": "stream",
     "text": [
      "5347471 570024906176731 2217611156 ODJXTIAKMELBKEN ЫЦЭШПОТЪОЭЩГВ ИШФСДЫЩОС U РМБЕЦЬЫФЖЙ\n"
     ]
    }
   ],
   "source": [
    "import random\n",
    "def random_string():\n",
    "    alphabet_lat = [chr(i) for i in range(65, 91)]       \n",
    "    alphabet_kir = [chr(i) for i in range(1040, 1072)]   \n",
    "    alphabet_kir.append(chr(1025))                       \n",
    "    digits = [chr(i) for i in range(48, 58)]     \n",
    "    \n",
    "    quan_words = random.randint(1, 10)  \n",
    "    words = []\n",
    "    \n",
    "    for _ in range(quan_words):\n",
    "        word_length = random.randint(1, 15)  \n",
    "  \n",
    "        selection = random.choice([alphabet_lat, digits, alphabet_kir])\n",
    "        word = ''.join(random.choice(selection) for _ in range(word_length))\n",
    "        words.append(word)\n",
    "    \n",
    "    return ' '.join(words)\n",
    "\n",
    "print(random_string())"
   ]
  },
  {
   "cell_type": "code",
   "execution_count": 64,
   "id": "f8c23be9-6ba6-44fd-a290-5d1088c5dc22",
   "metadata": {},
   "outputs": [],
   "source": [
    "def get_symbol_set(type_symbols):   #Отдельно выношу функцию для определения букв и цифр\n",
    "    latin_upper = [chr(i) for i in range(65, 91)]   \n",
    "    latin_lower = [chr(i) for i in range(97, 123)]  \n",
    "    latin_full = latin_upper + latin_lower\n",
    "\n",
    "    cyrillic_upper = [chr(i) for i in range(1040, 1072)] + [chr(1025)]  \n",
    "    cyrillic_lower = [chr(i) for i in range(1072, 1104)] + [chr(1105)] \n",
    "    cyrillic_full = cyrillic_upper + cyrillic_lower\n",
    "\n",
    "    digits = [chr(i) for i in range(48, 58)] \n",
    "\n",
    "    symbol_sets = {\n",
    "        'latin': latin_full,\n",
    "        'digits': digits,\n",
    "        'kiril': cyrillic_full,\n",
    "        'mix': latin_full + cyrillic_full + digits\n",
    "    }\n",
    "\n",
    "    result = symbol_sets.get(type_symbols)\n",
    "    if result is None:\n",
    "        raise ValueError(\"Правильно введите тип символов\")\n",
    "    return result"
   ]
  },
  {
   "cell_type": "code",
   "execution_count": 66,
   "id": "a1f82cba-79ab-4e7f-bac3-388f5f681a33",
   "metadata": {},
   "outputs": [],
   "source": [
    "def lines_gen_fun_v2(file_size, type_symbols, number_words, number_symbols):\n",
    "    \"\"\"\n",
    "    Генераторная функция для создания строк с случайными символами.\n",
    "    Строки генерируются до достижения указанного размера `file_size`\n",
    "    \"\"\"\n",
    "    \n",
    "    bytes_limit = file_size * 1024**2  #Мегабайты -> байты\n",
    "    symbol_set = get_symbol_set(type_symbols)  \n",
    "    total_size = 0  #Для подсчёта текущего размера файла\n",
    "\n",
    "    while total_size < bytes_limit:   # Генерируем строки, пока их общий размер не достигнет `bytes_limit`\n",
    "        my_list = [''.join([random.choice(symbol_set) for _ in range(number_symbols)]) for _ in range(number_words)] #Создание случайных слов\n",
    "        line = ' '.join(my_list)  #Объединяем слова в одну строку \n",
    "        \n",
    "        line_size = len(line.encode('utf-8'))   #Вычисляем размер строк\n",
    "\n",
    "        if total_size + line_size > bytes_limit:  # Если строка превышает лимит останавливаем\n",
    "            break \n",
    "\n",
    "        yield line  \n",
    "        total_size += line_size   "
   ]
  },
  {
   "cell_type": "code",
   "execution_count": 68,
   "id": "358cf06d-8081-486f-bddf-aed42d24a085",
   "metadata": {},
   "outputs": [],
   "source": [
    "file_size = 1 \n",
    "type_symbols = 'mix'\n",
    "number_words = 10\n",
    "number_symbols = 10\n",
    "      \n",
    "generator = lines_gen_fun_v2(file_size, type_symbols, number_words, number_symbols)"
   ]
  },
  {
   "cell_type": "code",
   "execution_count": 70,
   "id": "5d8baadf-873b-4cbd-be1e-32a6b5eb15a8",
   "metadata": {},
   "outputs": [
    {
     "name": "stdout",
     "output_type": "stream",
     "text": [
      "zОgshКмл9о BМl4ъHxЮXА сОЖхFыqыQс dЦЧfщJё4ьф зэВkПjtFhм CuЖбNnыЗhц trаУцVOЦNw ZQxlэxHфbй АbущgUчdыЧ ЩNХ1ЦКСfуs\n"
     ]
    }
   ],
   "source": [
    "print(next(generator))"
   ]
  },
  {
   "cell_type": "code",
   "execution_count": 72,
   "id": "e4815b13-4415-458f-954c-cb1b78811e8a",
   "metadata": {},
   "outputs": [
    {
     "name": "stdout",
     "output_type": "stream",
     "text": [
      "SЖрMm37нp4 SnkьйБ3йюx ИcDTвFМoAД NЪ4иБED7sg ЪжвNыЯЦе3P yеSь6яжНOт lтOqpюфNЙЪ aвhГ6ЩMJВx оТАфнvфЮси dхЬЖсyзв4h\n",
      "УZыНЕXУупд WяИyШрVGуу ТbУkPЕWс66 hИзЪрenУЗr fТж7сBJЪxr хтbyЫ9ПИRН чТzcYЭьjк3 9ШЮjS0юМch э18ГGЯpyНp 3GXfырmA2Ж\n",
      "knUыXзкэпL ZИraэдOYIn ЧnhhKНnАlz ЛЧОVЩRЪEVФ мqЁнsлlД8о К4йС7ЙАъып ШEzyиyоbеЗ qNyхгжуёjЭ 3SAyй42Gщ1 xЙВеRvBVЭС\n",
      "aШДте4ArRэ GhВЛYы4CвG YNАРъЛЛyЪа юкзtчhЫИGO uНWпЭAЭЖZТ Цi3NмРtpgИ ПoНcДhkw2h ь2mЗRKЗKЭЯ 1sыbkGрOц4 9oВdyq4ББ6\n",
      "ЙьtЙБШHIгh ЪNеNEНgeuj тМkБPOSиЦл ШWxжd2PTGХ гQЭМтЛНYPч yсaBгсшvzЗ akdЛКkZ9жи ьБiьaрЦ9Н1 mУ5ТqАТbЪф ХшбrЬ2lQЙG\n",
      "FMъLdЙhМXB fEСwхГрОCД 2нKiъшПуEA Gbи6ЬМoхЪq сeч368mРщш ClгЛФяuЮЖю FgsNоk9ЧкЮ nсkПзпAuз0 4МBгzbТЯЁy И2LИx4Ayсr\n",
      "Nшяй43PдXй ЫУQly7ZлQf nJсZьQшceк 8QонAр7ТPх иteмNDъ8сэ раNuеsцВыГ МЮвeбJ4dЪе иlёzBШГпОU Тштmмm8JCY RьMqm3ёОgУ\n",
      "эЗтKЮrУEПA XhщюIСЮР6Н зhСDчHmмeu ОШn9ПнАufп FссЗэрКUcl JVkТЦМwмпи Бp5ФjАвщ6ю rI0пЗKuCqщ cфпй3ЪX7DY 3fгМWAUв6U\n",
      "AGоRpmMyВH юиFpqМЕJхp К5Л6яРоиsг аq7VюЁшdБё WNЫnсvёTPr нщT7тlкqШе ПКOpАMЩКXг QЖхр5LQiнИ uCX2МeЮPД6 И33ЛыЛrEжS\n",
      "ЖиG2gфВm0n 91Pла5ЖCбь 7ДШbЭdlтrL NЙе6шTтddl 4e7PЛtЧ4сT en7ПХGцDNп lqУЕВЙ7aХм mНiяЫРшшТф FS0ьЬцЧFXК СnГqmг8ущь\n"
     ]
    }
   ],
   "source": [
    "for i in range(10):\n",
    "    print(next(generator))"
   ]
  },
  {
   "cell_type": "markdown",
   "id": "f27f1e9d-4e17-45ba-9f0d-ea893245fe54",
   "metadata": {},
   "source": [
    "## Задание 9.3. Запись сгенерированных строк в текстовый файл\n"
   ]
  },
  {
   "cell_type": "code",
   "execution_count": 74,
   "id": "8c5ffb15-b595-4f35-884c-41b94d33cae7",
   "metadata": {},
   "outputs": [],
   "source": [
    "import time\n",
    "\n",
    "def file_gen(file_name: str,\n",
    "             file_size: int,\n",
    "             type_symbols: str = 'latin',\n",
    "             number_words: (int, int) = (10, 20),\n",
    "             number_symbols: (int, int) = (5, 10)):\n",
    "    \"\"\"\n",
    "    Генерирует файл со случайными строками.\n",
    "    \n",
    "    \"\"\"\n",
    "    \n",
    "    start_time = time.process_time() # Таймер чтобы времени выполнения\n",
    "    bytes_written = 0  # Подсчет записанных байтов\n",
    "    bytes_limit = file_size * 1024**2   #Мегабайты -> байты\n",
    "    step_size = bytes_limit // 10  #Шаг для обновления процента выполнения\n",
    "    next_status = step_size  # Следующий порог обновления статуса\n",
    "\n",
    "    with open(file_name, 'w') as f:\n",
    "        for line in lines_gen_fun_v2(file_size, type_symbols,  random.randint(*number_words), random.randint(*number_symbols)): # Случайное количество слов и длина слова\n",
    "            f.write(line + '\\n') # Добавляем строку в файл учитывая `\\n`\n",
    "            bytes_written += len(line.encode('utf-8')) + 1  \n",
    "\n",
    "            if bytes_written >= next_status: # Если записанный объем данных достиг порога \n",
    "                progress = int(bytes_written / bytes_limit * 100) # Рассчитываем процент выполнения\n",
    "                print(f\"\\rПроцент записанных данных: {progress}%\", end=\"\", flush=True)\n",
    "                next_status += step_size  # Обновляем порог для следующего обновления статуса\n",
    "\n",
    "    print(f\"\\nФактический размер: {bytes_written / 1024**2:.2f} МБ\")\n",
    "    print(f\"Время выполнения: {time.process_time() - start_time:.2f} секунд\")"
   ]
  },
  {
   "cell_type": "code",
   "execution_count": 76,
   "id": "46e07b86-aa3d-4cae-972a-adba595a5443",
   "metadata": {},
   "outputs": [
    {
     "name": "stdout",
     "output_type": "stream",
     "text": [
      "Процент записанных данных: 100%\n",
      "Фактический размер: 1.01 МБ\n",
      "Время выполнения: 0.38 секунд\n"
     ]
    }
   ],
   "source": [
    "file_name=\"result1.txt\"\n",
    "file_size=1\n",
    "type_symbols=\"mix\"\n",
    "file_gen(file_name, file_size,type_symbols)"
   ]
  },
  {
   "cell_type": "code",
   "execution_count": 78,
   "id": "0405c0cd-0340-48b2-b17b-13609e787e53",
   "metadata": {},
   "outputs": [
    {
     "name": "stdout",
     "output_type": "stream",
     "text": [
      "Процент записанных данных: 100%\n",
      "Фактический размер: 5.03 МБ\n",
      "Время выполнения: 1.12 секунд\n"
     ]
    }
   ],
   "source": [
    "file_name=\"result2.txt\"\n",
    "file_size=5\n",
    "type_symbols=\"kiril\"\n",
    "file_gen(file_name, file_size,type_symbols)"
   ]
  },
  {
   "cell_type": "code",
   "execution_count": 80,
   "id": "d2ad075f-de5f-4bc9-9171-a4815adb9e5b",
   "metadata": {},
   "outputs": [
    {
     "name": "stdout",
     "output_type": "stream",
     "text": [
      "Процент записанных данных: 100%\n",
      "Фактический размер: 10.09 МБ\n",
      "Время выполнения: 3.58 секунд\n"
     ]
    }
   ],
   "source": [
    "file_name=\"result3.txt\"\n",
    "file_size=10\n",
    "type_symbols=\"latin\"\n",
    "file_gen(file_name, file_size,type_symbols)"
   ]
  },
  {
   "cell_type": "code",
   "execution_count": null,
   "id": "8101cc19-40c9-4e45-a124-a999b60d51d8",
   "metadata": {},
   "outputs": [],
   "source": []
  },
  {
   "cell_type": "code",
   "execution_count": null,
   "id": "fe90897b-0633-432a-9e29-a97ed8a5d325",
   "metadata": {},
   "outputs": [],
   "source": []
  }
 ],
 "metadata": {
  "kernelspec": {
   "display_name": "Python [conda env:base] *",
   "language": "python",
   "name": "conda-base-py"
  },
  "language_info": {
   "codemirror_mode": {
    "name": "ipython",
    "version": 3
   },
   "file_extension": ".py",
   "mimetype": "text/x-python",
   "name": "python",
   "nbconvert_exporter": "python",
   "pygments_lexer": "ipython3",
   "version": "3.12.7"
  }
 },
 "nbformat": 4,
 "nbformat_minor": 5
}
