{
 "cells": [
  {
   "cell_type": "markdown",
   "id": "8c72a810-265f-4b9b-b52f-4495c9d034b9",
   "metadata": {},
   "source": [
    "# Лабораторная работа 6\n",
    "# Выравнивание списка, состоящего из итерируемых объектов, на основе рекурсии\n"
   ]
  },
  {
   "cell_type": "markdown",
   "id": "0be858ae-00d5-4e07-be54-0d4f4184f803",
   "metadata": {},
   "source": [
    "Трофимова Вероника Сергевна, 30.04.2025"
   ]
  },
  {
   "cell_type": "markdown",
   "id": "12d9a322-8ee9-4912-b176-180412db5bdb",
   "metadata": {},
   "source": [
    "## Задание 6.1. Выравнивание вложенных списков\n"
   ]
  },
  {
   "cell_type": "markdown",
   "id": "cb0059b4-afea-47c9-b119-e801d16f1263",
   "metadata": {},
   "source": [
    "### Задание 6.1.1. Рекурсивная функция flatten_list_v1"
   ]
  },
  {
   "cell_type": "code",
   "execution_count": 128,
   "id": "2efc901b-f3b7-45ee-9fd0-b19b7958760c",
   "metadata": {},
   "outputs": [],
   "source": [
    "it_list = [[1],[2,[3]],[[[[[4]]]]],5,6,7]"
   ]
  },
  {
   "cell_type": "code",
   "execution_count": 129,
   "id": "f7f74389-4d8b-4115-bb79-0e694e721fff",
   "metadata": {},
   "outputs": [
    {
     "data": {
      "text/plain": [
       "\u001b[1;31mSignature:\u001b[0m \u001b[0misinstance\u001b[0m\u001b[1;33m(\u001b[0m\u001b[0mobj\u001b[0m\u001b[1;33m,\u001b[0m \u001b[0mclass_or_tuple\u001b[0m\u001b[1;33m,\u001b[0m \u001b[1;33m/\u001b[0m\u001b[1;33m)\u001b[0m\u001b[1;33m\u001b[0m\u001b[1;33m\u001b[0m\u001b[0m\n",
       "\u001b[1;31mDocstring:\u001b[0m\n",
       "Return whether an object is an instance of a class or of a subclass thereof.\n",
       "\n",
       "A tuple, as in ``isinstance(x, (A, B, ...))``, may be given as the target to\n",
       "check against. This is equivalent to ``isinstance(x, A) or isinstance(x, B)\n",
       "or ...`` etc.\n",
       "\u001b[1;31mType:\u001b[0m      builtin_function_or_method"
      ]
     },
     "metadata": {},
     "output_type": "display_data"
    }
   ],
   "source": [
    "?isinstance"
   ]
  },
  {
   "cell_type": "code",
   "execution_count": 130,
   "id": "8033074e-9585-42cc-ba81-19d01d1ba84b",
   "metadata": {},
   "outputs": [],
   "source": [
    "def flatten_list_v1(nested_obj):\n",
    "    result = []\n",
    "    if isinstance(nested_obj,list): # проверка является ли объект списком\n",
    "        for item in nested_obj: # проходим по элементам списка\n",
    "            result += flatten_list_v1(item) # рекурсия\n",
    "    else:\n",
    "        result += [nested_obj] # добавляем в результат\n",
    "    return result"
   ]
  },
  {
   "cell_type": "code",
   "execution_count": 131,
   "id": "dd29d1d0-19d5-4636-9fbf-4fd4e401e4b8",
   "metadata": {},
   "outputs": [
    {
     "data": {
      "text/plain": [
       "[1, 2, 3, 4, 5, 6, 7]"
      ]
     },
     "execution_count": 131,
     "metadata": {},
     "output_type": "execute_result"
    }
   ],
   "source": [
    "flatten_list_v1(it_list)"
   ]
  },
  {
   "cell_type": "markdown",
   "id": "40f1e496-6120-4fa2-ae51-a5005d838b1e",
   "metadata": {},
   "source": [
    "### Задание 6.1.2. Генераторная функция на основе рекурсии flatten_list_v2\n"
   ]
  },
  {
   "cell_type": "code",
   "execution_count": 132,
   "id": "2b7f7f39-e56f-46ca-a9f6-0ba807d1d01e",
   "metadata": {},
   "outputs": [],
   "source": [
    "def flatten_list_v2(nested_obj):\n",
    "    if isinstance(nested_obj, list):  # проверяем, является ли объект списком\n",
    "        for item in nested_obj:  # проходим по элементам списка\n",
    "            for sub_item in flatten_list_v2(item):  # рекурсивно генерируем элементы\n",
    "                yield sub_item  # генерируем элементы\n",
    "    else:\n",
    "        yield nested_obj  # генерируем элемент, если он не список"
   ]
  },
  {
   "cell_type": "code",
   "execution_count": 133,
   "id": "4652c65b-8ecb-49df-bbcc-ed904059d898",
   "metadata": {},
   "outputs": [
    {
     "name": "stdout",
     "output_type": "stream",
     "text": [
      "[1, 2, 3, 4, 5, 6, 7]\n"
     ]
    }
   ],
   "source": [
    "print([x for x in flatten_list_v2(it_list)])"
   ]
  },
  {
   "cell_type": "code",
   "execution_count": 134,
   "id": "2513eab0-b62c-4145-8bc0-0e81d40099cc",
   "metadata": {},
   "outputs": [],
   "source": [
    "def flatten_list_v2_v2(nested_obj):\n",
    "    if isinstance(nested_obj, list):  # проверяем, является ли объект списком\n",
    "        for item in nested_obj:  # проходим по элементам списка\n",
    "            yield from flatten_list_v2_v2(item)  # генерируем элементы\n",
    "    else:\n",
    "        yield nested_obj  # генерируем элемент, если он не список"
   ]
  },
  {
   "cell_type": "code",
   "execution_count": 135,
   "id": "fb2dde65-0fb5-4804-8545-3a0d7df96272",
   "metadata": {},
   "outputs": [
    {
     "name": "stdout",
     "output_type": "stream",
     "text": [
      "[1, 2, 3, 4, 5, 6, 7]\n"
     ]
    }
   ],
   "source": [
    "print([x for x in flatten_list_v2_v2(it_list)])"
   ]
  },
  {
   "cell_type": "markdown",
   "id": "17bcac00-bad4-4a85-b15f-4fe28fbaefea",
   "metadata": {},
   "source": [
    "### Задание 6.1.3. Функция flatten_list: создание, документирование, тестирование\n"
   ]
  },
  {
   "cell_type": "code",
   "execution_count": 136,
   "id": "c79f7a3b-80db-421a-bbb9-3a64fa6b8eef",
   "metadata": {},
   "outputs": [],
   "source": [
    "def flatten_list(nested_obj, gen=False): # возвращает список или генераторный объект элементов вложенных списков. \n",
    "    if gen:\n",
    "        return flatten_list_v2(nested_obj)  # генераторный объект\n",
    "    else:\n",
    "        return flatten_list_v1(nested_obj)  # список"
   ]
  },
  {
   "cell_type": "code",
   "execution_count": 137,
   "id": "7ed81115-3e76-4ea7-bc15-a697d6a841b3",
   "metadata": {},
   "outputs": [
    {
     "name": "stdout",
     "output_type": "stream",
     "text": [
      "['abc', 'de']\n"
     ]
    }
   ],
   "source": [
    "res = flatten_list([\"abc\",[\"de\"]], gen=False)\n",
    "print(res) "
   ]
  },
  {
   "cell_type": "code",
   "execution_count": 138,
   "id": "376af10f-ec73-453f-b252-dd0bf0216d25",
   "metadata": {},
   "outputs": [
    {
     "name": "stdout",
     "output_type": "stream",
     "text": [
      "[1, 2, 3, 4, 5, 6, 7]\n"
     ]
    }
   ],
   "source": [
    "print(flatten_list(it_list, gen=False))"
   ]
  },
  {
   "cell_type": "code",
   "execution_count": 139,
   "id": "f9c2f7ae-fd8c-4de9-b35c-1f22f1e4dffc",
   "metadata": {},
   "outputs": [
    {
     "name": "stdout",
     "output_type": "stream",
     "text": [
      "[1, 2, 3, 4, 5, 6, 7]\n"
     ]
    }
   ],
   "source": [
    "print([x for x in flatten_list(it_list, gen=True)])"
   ]
  },
  {
   "cell_type": "markdown",
   "id": "325cc0fa-c2f5-4ecb-b3ae-f0690a44823d",
   "metadata": {},
   "source": [
    "## Задание 6.2. Выравнивание вложенных итерируемых объектов произвольного типа"
   ]
  },
  {
   "cell_type": "code",
   "execution_count": 140,
   "id": "4d316dfc-ea81-44e1-9793-f79775139319",
   "metadata": {},
   "outputs": [
    {
     "data": {
      "text/plain": [
       "[[1], [2, [3]], [[[[[4]]]]], 5, 6, 7]"
      ]
     },
     "execution_count": 140,
     "metadata": {},
     "output_type": "execute_result"
    }
   ],
   "source": [
    "it_list"
   ]
  },
  {
   "cell_type": "code",
   "execution_count": 141,
   "id": "fc2185f6-c07a-4ceb-935f-4e74da0caaa9",
   "metadata": {},
   "outputs": [],
   "source": [
    "it_tuple = (((7),(8)),(9),10)"
   ]
  },
  {
   "cell_type": "code",
   "execution_count": 142,
   "id": "04b2ee1e-57e1-47cd-bfaf-eb5088604ef2",
   "metadata": {},
   "outputs": [],
   "source": [
    "it_str = \"abcdefgh\""
   ]
  },
  {
   "cell_type": "code",
   "execution_count": 143,
   "id": "aeadabee-34aa-4754-ba9e-65933d7afe98",
   "metadata": {},
   "outputs": [],
   "source": [
    "it_dict = {\"key1\": 11, \"key2\": {\"key3\": 12}}"
   ]
  },
  {
   "cell_type": "code",
   "execution_count": 144,
   "id": "7e9ba88f-1a5c-443b-b717-8cbf31342985",
   "metadata": {},
   "outputs": [],
   "source": [
    "it_gen = ([i,i**2,i**3] for i in range(5))"
   ]
  },
  {
   "cell_type": "code",
   "execution_count": 145,
   "id": "7dd22bef-4da0-47a7-aa9c-e9f30c2c6b61",
   "metadata": {},
   "outputs": [],
   "source": [
    "it_file = open(\"flatten_file.txt\", \"w+\")"
   ]
  },
  {
   "cell_type": "code",
   "execution_count": 146,
   "id": "a4b2a6eb-5b6d-4c31-a4ea-26c5dbf8a73a",
   "metadata": {},
   "outputs": [],
   "source": [
    "it = [it_list, it_tuple, it_str, it_dict, it_gen, it_file]"
   ]
  },
  {
   "cell_type": "code",
   "execution_count": 147,
   "id": "185f1ff6-08a9-42c6-9492-09e131777cef",
   "metadata": {},
   "outputs": [
    {
     "data": {
      "text/plain": [
       "[True, True, True, True, True, True]"
      ]
     },
     "execution_count": 147,
     "metadata": {},
     "output_type": "execute_result"
    }
   ],
   "source": [
    "['__iter__' in dir(x) for x in it]"
   ]
  },
  {
   "cell_type": "code",
   "execution_count": 148,
   "id": "cc51bfd7-72d8-40cc-a784-56d47ae8f159",
   "metadata": {},
   "outputs": [
    {
     "data": {
      "text/plain": [
       "[True, True, True, True, True, True]"
      ]
     },
     "execution_count": 148,
     "metadata": {},
     "output_type": "execute_result"
    }
   ],
   "source": [
    "[hasattr(x, '__iter__') for x in it]"
   ]
  },
  {
   "cell_type": "code",
   "execution_count": 149,
   "id": "fdc2c16f-d7f0-4bc9-90a7-93bd146259bd",
   "metadata": {},
   "outputs": [
    {
     "data": {
      "text/plain": [
       "\u001b[1;31mSignature:\u001b[0m \u001b[0mhasattr\u001b[0m\u001b[1;33m(\u001b[0m\u001b[0mobj\u001b[0m\u001b[1;33m,\u001b[0m \u001b[0mname\u001b[0m\u001b[1;33m,\u001b[0m \u001b[1;33m/\u001b[0m\u001b[1;33m)\u001b[0m\u001b[1;33m\u001b[0m\u001b[1;33m\u001b[0m\u001b[0m\n",
       "\u001b[1;31mDocstring:\u001b[0m\n",
       "Return whether the object has an attribute with the given name.\n",
       "\n",
       "This is done by calling getattr(obj, name) and catching AttributeError.\n",
       "\u001b[1;31mType:\u001b[0m      builtin_function_or_method"
      ]
     },
     "metadata": {},
     "output_type": "display_data"
    }
   ],
   "source": [
    "?hasattr"
   ]
  },
  {
   "cell_type": "markdown",
   "id": "88193109-a73d-4afb-88e4-0d20527f0055",
   "metadata": {},
   "source": [
    "### Задание 6.2.1. Рекурсивная функция flatten_it_v1\n"
   ]
  },
  {
   "cell_type": "code",
   "execution_count": 150,
   "id": "6c67a908-dd1c-4108-826e-bb8a176f3fae",
   "metadata": {},
   "outputs": [],
   "source": [
    "def flatten_it_v1(nested_obj):\n",
    "    result = [] \n",
    "    if hasattr(nested_obj, '__iter__'):  # проверяем, является ли объект итерируемым\n",
    "        if isinstance(nested_obj, str):  # если строка, не итерируем\n",
    "            result += [nested_obj]  # добавляем строку\n",
    "        elif isinstance(nested_obj, dict):  # если словарь, итерируем по ключам и значениям\n",
    "            for key, value in nested_obj.items():\n",
    "                result += flatten_it_v1(key)  # добавляем ключи\n",
    "                result += flatten_it_v1(value)  # добавляем значения\n",
    "        else:\n",
    "            for item in nested_obj:  # проходим по элементам итерируемого объекта\n",
    "                result += flatten_it_v1(item)  # рекурсивно добавляем элементы\n",
    "    else:\n",
    "        result += [nested_obj]  # добавляем элемент, если он не итерируем\n",
    "    return result  "
   ]
  },
  {
   "cell_type": "code",
   "execution_count": 151,
   "id": "4fb5ae4c-dd95-4c86-ab4b-ac0204a4298f",
   "metadata": {},
   "outputs": [
    {
     "name": "stdout",
     "output_type": "stream",
     "text": [
      "[1, 2, 3, 4, 5, 6, 7]\n"
     ]
    }
   ],
   "source": [
    "print(flatten_it_v1(it_list))"
   ]
  },
  {
   "cell_type": "markdown",
   "id": "f13524f6-e7a2-414b-a346-d8f370750063",
   "metadata": {},
   "source": [
    "### Задание 6.2.2. Генераторная функция на основе рекурсии flatten_it_v2"
   ]
  },
  {
   "cell_type": "code",
   "execution_count": 152,
   "id": "b5c6c1f0-826b-412c-8579-03037c4aadec",
   "metadata": {},
   "outputs": [],
   "source": [
    "def flatten_it_v2(nested_obj):\n",
    "    if hasattr(nested_obj, '__iter__'):  # проверяем, является ли объект итерируемым\n",
    "        if isinstance(nested_obj, str):  # если строка, не итерируем\n",
    "            yield nested_obj  # генерируем строку\n",
    "        elif isinstance(nested_obj, dict):  # если словарь, итерируем по ключам и значениям\n",
    "            for key, value in nested_obj.items():\n",
    "                yield from flatten_it_v2(key)  # генерируем ключи\n",
    "                yield from flatten_it_v2(value)  # генерируем значения\n",
    "        else:\n",
    "            for item in nested_obj:  # проходим по элементам итерируемого объекта\n",
    "                yield from flatten_it_v2(item)  # генерируем элементы рекурсивно\n",
    "    else:\n",
    "        yield nested_obj  # генерируем элемент, если он не итерируем"
   ]
  },
  {
   "cell_type": "code",
   "execution_count": 153,
   "id": "0c8ac751-035e-496b-8bf6-43c54bbdf804",
   "metadata": {},
   "outputs": [
    {
     "name": "stdout",
     "output_type": "stream",
     "text": [
      "[1, 2, 3, 4, 5, 6, 7]\n"
     ]
    }
   ],
   "source": [
    "print([x for x in flatten_it_v2(it_list)])"
   ]
  },
  {
   "cell_type": "markdown",
   "id": "e627d2eb-a39b-49e0-a7a1-db7605bce4d5",
   "metadata": {},
   "source": [
    "### Задание 6.2.3. Функция flatten_it: создание, документирование, тестирование"
   ]
  },
  {
   "cell_type": "code",
   "execution_count": 154,
   "id": "d057e095-f28a-4a38-a117-86edc02be969",
   "metadata": {},
   "outputs": [],
   "source": [
    "def flatten_it(nested_obj, gen=False):\n",
    "    \"\"\"\n",
    "    Функция для выравнивания вложенных итерируемых объектов.\n",
    "\n",
    "    Параметры:\n",
    "    nested_obj: любой итерируемый объект (список, кортеж, строка, словарь и т.д.), который может содержать другие вложенные итерируемые объекты.\n",
    "    gen: логическое значение (по умолчанию False). Если True, функция вернет генераторный объект, иначе — список.\n",
    "\n",
    "    Возвращает:\n",
    "    Список или генераторный объект, содержащий элементы вложенной структуры,\n",
    "    выровненные в одномерный вид.\n",
    "\n",
    "    Исключения:\n",
    "    ValueError, если обнаружен циклический объект.\n",
    "    \"\"\"\n",
    "\n",
    "    if gen:\n",
    "        return flatten_it_v2(nested_obj) \n",
    "    else:\n",
    "        return flatten_it_v1(nested_obj) "
   ]
  },
  {
   "cell_type": "code",
   "execution_count": 155,
   "id": "ddd53dae-3870-406f-958e-58235d847fe0",
   "metadata": {},
   "outputs": [
    {
     "name": "stdout",
     "output_type": "stream",
     "text": [
      "[1, 2, 3, 4, 5, 6]\n"
     ]
    }
   ],
   "source": [
    "# вложенный список\n",
    "res_2 = flatten_it([[1, 2], [3, [4, 5]], 6], gen=False)\n",
    "print(res_2)"
   ]
  },
  {
   "cell_type": "code",
   "execution_count": 156,
   "id": "f7194e43-5305-46e3-8d8b-05c6770f0eac",
   "metadata": {},
   "outputs": [
    {
     "name": "stdout",
     "output_type": "stream",
     "text": [
      "['a', 1, 2, 'b', 'c', 3, 'd', 4, 5]\n"
     ]
    }
   ],
   "source": [
    "# вложенный словарь\n",
    "res_3 = flatten_it({\"a\": [1, 2], \"b\": {\"c\": 3, \"d\": [4, 5]}}, gen=False)\n",
    "print(res_3)"
   ]
  },
  {
   "cell_type": "code",
   "execution_count": 157,
   "id": "46698b68-95a4-49dd-b78a-2b9a1d0ab810",
   "metadata": {},
   "outputs": [
    {
     "name": "stdout",
     "output_type": "stream",
     "text": [
      "[1, 2, 3, 4, 5]\n"
     ]
    }
   ],
   "source": [
    "# генераторный объект\n",
    "gen_4 = flatten_it([1, [2, [3, 4]], 5], gen=True)\n",
    "res_4 = [x for x in gen_4]\n",
    "print(res_4)"
   ]
  },
  {
   "cell_type": "markdown",
   "id": "2ba59ad2-4bd5-42da-8527-172189391224",
   "metadata": {},
   "source": [
    "## Задание 6.3. Обработка циклических объектов"
   ]
  },
  {
   "cell_type": "code",
   "execution_count": 158,
   "id": "9dbc5918-af41-4b56-be80-e9dc54566eac",
   "metadata": {},
   "outputs": [],
   "source": [
    "it_list_cyclic = it_list[:]\n",
    "it_list_cyclic.append(it_list_cyclic)"
   ]
  },
  {
   "cell_type": "code",
   "execution_count": 159,
   "id": "cdbcae99-7962-49f9-8266-d23e259c48a2",
   "metadata": {},
   "outputs": [
    {
     "data": {
      "text/plain": [
       "[[1], [2, [3]], [[[[[4]]]]], 5, 6, 7, [...]]"
      ]
     },
     "execution_count": 159,
     "metadata": {},
     "output_type": "execute_result"
    }
   ],
   "source": [
    "it_list_cyclic"
   ]
  },
  {
   "cell_type": "code",
   "execution_count": 160,
   "id": "a4b6f2b4-cae5-40e1-abfc-127a74a9b8c8",
   "metadata": {},
   "outputs": [],
   "source": [
    "def flatten_list_v1(nested_obj):\n",
    "    result = []\n",
    "    if isinstance(nested_obj, list):\n",
    "        for item in nested_obj:\n",
    "            if item is nested_obj:  \n",
    "                raise ValueError(\"Cyclic list is found\")\n",
    "            else:\n",
    "                result += flatten_list_v1(item)\n",
    "    else:\n",
    "        result += [nested_obj]\n",
    "    return result"
   ]
  },
  {
   "cell_type": "code",
   "execution_count": 161,
   "id": "5c77bdfd-3d09-41da-9d9b-78a659479b5e",
   "metadata": {},
   "outputs": [
    {
     "data": {
      "text/plain": [
       "[1, 2, 3, 4, 5, 6, 7]"
      ]
     },
     "execution_count": 161,
     "metadata": {},
     "output_type": "execute_result"
    }
   ],
   "source": [
    "flatten_list_v1(it_list)"
   ]
  },
  {
   "cell_type": "code",
   "execution_count": 162,
   "id": "263dfa47-21da-4d75-b62a-3591eb422b94",
   "metadata": {},
   "outputs": [
    {
     "ename": "ValueError",
     "evalue": "Cyclic list is found",
     "output_type": "error",
     "traceback": [
      "\u001b[1;31m---------------------------------------------------------------------------\u001b[0m",
      "\u001b[1;31mValueError\u001b[0m                                Traceback (most recent call last)",
      "Cell \u001b[1;32mIn[162], line 1\u001b[0m\n\u001b[1;32m----> 1\u001b[0m \u001b[43mflatten_list_v1\u001b[49m\u001b[43m(\u001b[49m\u001b[43mit_list_cyclic\u001b[49m\u001b[43m)\u001b[49m\n",
      "Cell \u001b[1;32mIn[160], line 6\u001b[0m, in \u001b[0;36mflatten_list_v1\u001b[1;34m(nested_obj)\u001b[0m\n\u001b[0;32m      4\u001b[0m \u001b[38;5;28;01mfor\u001b[39;00m item \u001b[38;5;129;01min\u001b[39;00m nested_obj:\n\u001b[0;32m      5\u001b[0m     \u001b[38;5;28;01mif\u001b[39;00m item \u001b[38;5;129;01mis\u001b[39;00m nested_obj:  \n\u001b[1;32m----> 6\u001b[0m         \u001b[38;5;28;01mraise\u001b[39;00m \u001b[38;5;167;01mValueError\u001b[39;00m(\u001b[38;5;124m\"\u001b[39m\u001b[38;5;124mCyclic list is found\u001b[39m\u001b[38;5;124m\"\u001b[39m)\n\u001b[0;32m      7\u001b[0m     \u001b[38;5;28;01melse\u001b[39;00m:\n\u001b[0;32m      8\u001b[0m         result \u001b[38;5;241m+\u001b[39m\u001b[38;5;241m=\u001b[39m flatten_list_v1(item)\n",
      "\u001b[1;31mValueError\u001b[0m: Cyclic list is found"
     ]
    }
   ],
   "source": [
    "flatten_list_v1(it_list_cyclic)"
   ]
  },
  {
   "cell_type": "code",
   "execution_count": 163,
   "id": "4c0599ea-09a2-42da-84ed-4ec40ef40c2a",
   "metadata": {},
   "outputs": [
    {
     "name": "stdout",
     "output_type": "stream",
     "text": [
      "Cyclic list is found\n"
     ]
    }
   ],
   "source": [
    "try:\n",
    "    print(flatten_list_v1(it_list_cyclic))\n",
    "except ValueError as e:\n",
    "    print(e)"
   ]
  },
  {
   "cell_type": "markdown",
   "id": "d96d312e-0d58-4ece-baae-3dea8fb13b2f",
   "metadata": {},
   "source": [
    "### Задание 6.3.1. Доопределение функции flatten_it"
   ]
  },
  {
   "cell_type": "code",
   "execution_count": 164,
   "id": "f79e9a45-15d0-437b-a790-2957bc71e255",
   "metadata": {},
   "outputs": [],
   "source": [
    "def flatten_it(nested_obj, gen=False):\n",
    "    seen = set()  # для отслеживания уже обработанных объектов\n",
    "\n",
    "    def _flatten(nested_obj):\n",
    "        if id(nested_obj) in seen:  # проверяем на цикличность\n",
    "            raise ValueError(\"Cyclic object is found\")\n",
    "        seen.add(id(nested_obj))\n",
    "\n",
    "        if hasattr(nested_obj, '__iter__') and not isinstance(nested_obj, str):\n",
    "            for item in nested_obj:\n",
    "                yield from _flatten(item)\n",
    "        else:\n",
    "            yield nested_obj\n",
    "\n",
    "    if gen:\n",
    "        return _flatten(nested_obj)\n",
    "    else:\n",
    "        return list(_flatten(nested_obj))"
   ]
  },
  {
   "cell_type": "markdown",
   "id": "d17f4ad8-0884-4dd2-a3bd-cf5a4483b938",
   "metadata": {},
   "source": [
    "### Задание 6.3.2. Тестирование функции flatten_it"
   ]
  },
  {
   "cell_type": "code",
   "execution_count": 165,
   "id": "b7bfebca-0ca1-4050-a691-57ccb48f46f6",
   "metadata": {},
   "outputs": [
    {
     "name": "stdout",
     "output_type": "stream",
     "text": [
      "[1, 2, 3, 4]\n"
     ]
    }
   ],
   "source": [
    "# обычный список\n",
    "try:\n",
    "    result_1 = flatten_it([[1, 2], [3, 4]], gen=False)\n",
    "    print(result_1)\n",
    "except ValueError as e:\n",
    "    print(e)"
   ]
  },
  {
   "cell_type": "code",
   "execution_count": 166,
   "id": "9cb4b440-37c7-480f-8098-5164f7865730",
   "metadata": {},
   "outputs": [
    {
     "name": "stdout",
     "output_type": "stream",
     "text": [
      "Cyclic object is found\n"
     ]
    }
   ],
   "source": [
    "# циклический список\n",
    "it_list_cyclic = [[1, 2], [3, 4]]\n",
    "it_list_cyclic.append(it_list_cyclic) \n",
    "try:\n",
    "    flatten_it(it_list_cyclic, gen=False)\n",
    "except ValueError as e:\n",
    "    print(e)"
   ]
  },
  {
   "cell_type": "code",
   "execution_count": 167,
   "id": "01e59e04-8955-486d-8864-f3959171ee88",
   "metadata": {},
   "outputs": [
    {
     "name": "stdout",
     "output_type": "stream",
     "text": [
      "{'a': 1, 'b': {2: {...}}}\n"
     ]
    }
   ],
   "source": [
    "# циклический словарь\n",
    "test_cyclic = {'a': 1}\n",
    "test_cyclic['b'] = {2: test_cyclic} \n",
    "try:\n",
    "    flatten_it(test_cyclic, gen=False)\n",
    "except ValueError as e:\n",
    "    print(e)\n",
    "\n",
    "print(test_cyclic)"
   ]
  },
  {
   "cell_type": "code",
   "execution_count": null,
   "id": "499c6d89-5fe1-43cb-a07f-910ce34c02f4",
   "metadata": {},
   "outputs": [],
   "source": []
  }
 ],
 "metadata": {
  "kernelspec": {
   "display_name": "Python 3 (ipykernel)",
   "language": "python",
   "name": "python3"
  },
  "language_info": {
   "codemirror_mode": {
    "name": "ipython",
    "version": 3
   },
   "file_extension": ".py",
   "mimetype": "text/x-python",
   "name": "python",
   "nbconvert_exporter": "python",
   "pygments_lexer": "ipython3",
   "version": "3.10.17"
  }
 },
 "nbformat": 4,
 "nbformat_minor": 5
}
